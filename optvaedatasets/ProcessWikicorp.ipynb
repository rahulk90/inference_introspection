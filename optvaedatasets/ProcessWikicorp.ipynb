{
 "cells": [
  {
   "cell_type": "markdown",
   "metadata": {},
   "source": [
    "## Process WikiCorp Dataset"
   ]
  },
  {
   "cell_type": "code",
   "execution_count": 1,
   "metadata": {
    "collapsed": false
   },
   "outputs": [],
   "source": [
    "import inflect,os,sys\n",
    "from utils.sparse_utils import saveSparseHDF5\n",
    "from utils.misc import savePickle\n",
    "p = inflect.engine()"
   ]
  },
  {
   "cell_type": "code",
   "execution_count": 2,
   "metadata": {
    "collapsed": true
   },
   "outputs": [],
   "source": [
    "import numpy as np\n",
    "from utils.sparse_utils import loadSparseHDF5"
   ]
  },
  {
   "cell_type": "code",
   "execution_count": 3,
   "metadata": {
    "collapsed": false
   },
   "outputs": [
    {
     "name": "stdout",
     "output_type": "stream",
     "text": [
      "1728  words needed\n"
     ]
    }
   ],
   "source": [
    "from load import loadDataset\n",
    "dset1 = loadDataset('scws')\n",
    "dset2 = loadDataset('wordsim353')\n",
    "def wParse(k):\n",
    "    return k.lower().replace('-','')\n",
    "vocab_emb = set([wParse(dset1[k]['w1']) for k in dset1]+[wParse(dset1[k]['w2']) for k in dset1]+\n",
    "            [wParse(dset2[k]['w1']) for k in dset2]+[wParse(dset2[k]['w2']) for k in dset2])\n",
    "print len(vocab_emb),' words needed'"
   ]
  },
  {
   "cell_type": "code",
   "execution_count": 4,
   "metadata": {
    "collapsed": false
   },
   "outputs": [
    {
     "name": "stdout",
     "output_type": "stream",
     "text": [
      "2002178\n"
     ]
    }
   ],
   "source": [
    "#Load wikicorp vocab\n",
    "assert os.path.exists('./wikicorp/WestburyLab.wikicorp.201004.feat'),'Feature file not found'\n",
    "with open('./wikicorp/WestburyLab.wikicorp.201004.feat','r') as f:\n",
    "    vocab = [k.strip().split(' ')[0] for k in f.readlines()]\n",
    "print len(vocab)\n",
    "vocab_arr = np.array(vocab)"
   ]
  },
  {
   "cell_type": "code",
   "execution_count": 5,
   "metadata": {
    "collapsed": false
   },
   "outputs": [
    {
     "name": "stdout",
     "output_type": "stream",
     "text": [
      "(2002178,)\n"
     ]
    }
   ],
   "source": [
    "#The number of singular nouns (flags->flag)\n",
    "vlist  = []\n",
    "w2idx  = {}\n",
    "\n",
    "for idx,v in enumerate(vocab):\n",
    "    sv = p.singular_noun(v)\n",
    "    if sv:\n",
    "        vlist.append(sv)\n",
    "        w2idx[sv] = idx\n",
    "    else:\n",
    "        vlist.append(v)\n",
    "        w2idx[v]  = idx\n",
    "    \n",
    "vocab_singular_only = set(vlist)\n",
    "vocab_singular_list = np.array(vlist)\n",
    "print vocab_singular_list.shape"
   ]
  },
  {
   "cell_type": "code",
   "execution_count": 6,
   "metadata": {
    "collapsed": false
   },
   "outputs": [
    {
     "name": "stdout",
     "output_type": "stream",
     "text": [
      "sincere not found\n",
      "y2k not found\n"
     ]
    }
   ],
   "source": [
    "#Find all the words they map to\n",
    "from_vocab = []\n",
    "from_vocab_singular = []\n",
    "absent     = []\n",
    "mapIdToIdx = {}\n",
    "for w in vocab_emb:\n",
    "    if w in vocab:\n",
    "        idxlst_vocab = np.where(w==vocab_arr)[0].tolist()\n",
    "        assert len(idxlst_vocab)==1,'nsd'\n",
    "        mapIdToIdx[w] = 'v_'+str(idxlst_vocab[0])\n",
    "        from_vocab  += idxlst_vocab\n",
    "    elif w in vocab_singular_only:\n",
    "        idxlst = np.where(w==vocab_singular_list)[0].tolist()\n",
    "        assert len(idxlst)==1,'nsd'\n",
    "        from_vocab_singular+=idxlst\n",
    "        mapIdToIdx[w] = 's_'+str(idxlst[0])\n",
    "    else:\n",
    "        print w, 'not found'\n",
    "        absent.append(w)"
   ]
  },
  {
   "cell_type": "code",
   "execution_count": 7,
   "metadata": {
    "collapsed": false
   },
   "outputs": [
    {
     "name": "stdout",
     "output_type": "stream",
     "text": [
      "1685\n",
      "41\n",
      "1726\n",
      "Preserving  1726  words from original vocab\n"
     ]
    }
   ],
   "source": [
    "print len(set(from_vocab))\n",
    "print len(set(from_vocab_singular))\n",
    "print len(set(from_vocab+from_vocab_singular))\n",
    "idx_to_preserve = from_vocab+from_vocab_singular\n",
    "print 'Preserving ',len(idx_to_preserve),' words from original vocab'"
   ]
  },
  {
   "cell_type": "code",
   "execution_count": 8,
   "metadata": {
    "collapsed": false
   },
   "outputs": [
    {
     "name": "stdout",
     "output_type": "stream",
     "text": [
      "(2002178,)\n"
     ]
    }
   ],
   "source": [
    "data = loadSparseHDF5('dataset','./wikicorp/WestburyLab.wikicorp.201004.h5')\n",
    "counts = np.array(data.sum(0)).squeeze().astype(int)\n",
    "print counts.shape"
   ]
  },
  {
   "cell_type": "code",
   "execution_count": 9,
   "metadata": {
    "collapsed": false
   },
   "outputs": [
    {
     "name": "stdout",
     "output_type": "stream",
     "text": [
      "See how frequent the words are:  [134510, 8532, 5960, 25216, 21430, 77653, 89122, 3586, 7055, 2641, 709, 2844, 4144, 39408, 7604, 60102, 3123, 16880, 20582, 1098892, 28459, 186, 2019, 14728, 19096, 12402, 12261, 16900, 19883, 636, 260350, 1585, 179269, 130, 693372, 280182, 7872, 4843, 17934, 13380, 230, 2047, 209, 69426, 44931, 44785, 16110, 167, 159633, 47484, 15591, 12112, 15338, 3014, 5481, 18992, 29290, 1145, 97226, 18363, 128330, 750, 42214, 604425, 44959, 152258, 65368, 1184, 240337, 51960, 56446, 479, 80501, 3258, 20517, 2005, 73778, 115301, 611633, 24360, 4124, 242, 240635, 2483, 2498, 2719, 11381, 18910, 468070, 25041, 111156, 76147, 68646, 73687, 156833, 83327, 27332, 3673, 3153, 3526, 29239, 2703, 27031, 32546, 353363, 331148, 14626, 6877, 104185, 15731, 277, 2596, 46590, 352497, 52133, 43097, 26912, 247041, 15695, 5905, 77843, 120330, 253756, 2488, 24513, 47286, 64723, 82903, 89497, 142326, 14351, 24898, 20584, 103968, 22601, 2408, 624405, 8264, 36973, 35253, 18495, 509, 403215, 176582, 2212, 3347, 66851, 699, 21941, 112367, 3338, 4099, 207064, 4917, 70820, 3990, 5400, 1176, 26, 146076, 57925, 33445, 6104, 4888, 90670, 410316, 2920, 61680, 12632, 2383, 79467, 64456, 7000, 27057, 89220, 6528, 2595, 24604, 62065, 71350, 58803, 24681, 3649, 4595, 57916, 13369, 189, 135535, 48095, 3028, 2357, 36369, 73435, 53152, 6876, 6248, 4490, 17530, 134585, 97300, 90000, 49006, 292, 33854, 28146, 25802, 8265, 7660, 95524, 51375, 32344, 7368, 283499, 584, 32222, 7942, 54959, 5482, 401, 6602, 5077, 3425, 155346, 102407, 13301, 18233, 5154, 35665, 68494, 5446, 11117, 101986, 24450, 48693, 4284, 7869, 10233, 207863, 13218, 58313, 18050, 61007, 721, 187815, 1183, 78954, 72533, 43163, 9300, 323, 49284, 110104, 658215, 23648, 36548, 36430, 978, 170684, 13362, 6378, 309320, 18275, 156, 48697, 19681, 122363, 249154, 28299, 1392, 564531, 3589, 17834, 595, 17928, 122539, 23257, 697, 30955, 430132, 17082, 328390, 28473, 1551, 20, 56084, 111134, 23662, 163924, 558402, 683, 114646, 281712, 1748, 60671, 82852, 299433, 4072, 30843, 40420, 37432, 6106, 39928, 125856, 3245, 484, 6363, 522278, 2066, 358, 168774, 262, 128512, 374372, 4392, 25542, 21029, 10253, 412, 8334, 1719, 92061, 126, 209664, 8, 10426, 39380, 186, 10232, 15843, 209507, 362132, 93860, 654087, 7937, 3476, 92370, 747120, 3176, 29760, 7750, 58694, 89349, 5758, 14695, 243, 2262, 7121, 868, 138846, 7848, 467, 2433, 1174, 2964, 11213, 526, 65209, 165121, 27338, 405, 13089, 4122, 21582, 3295, 280258, 41976, 18286, 7087, 640, 742362, 36933, 343737, 59245, 51296, 48854, 34078, 107130, 1604, 3571, 2422, 38981, 124, 106445, 104169, 57923, 23329, 139212, 20003, 89885, 11640, 328887, 22088, 260456, 23167, 4137, 5563, 50610, 561, 13648, 10423, 38188, 9765, 10433, 7707, 6444, 1237259, 5465, 4945, 11766, 100731, 485, 6184, 15809, 72858, 81759, 4637, 37623, 249438, 24254, 33261, 66344, 8017, 267093, 75473, 3825, 14031, 7686, 35058, 1245, 3996, 8280, 13157, 133418, 8593, 11749, 19169, 20287, 51970, 150, 165770, 90431, 16041, 20901, 1143, 5291, 171308, 984, 3402, 2077, 21006, 19637, 59639, 13236, 34227, 28758, 170376, 39194, 325256, 546, 35020, 95848, 317, 156741, 63790, 78170, 24276, 16897, 1420, 194213, 1503, 16367, 44018, 157557, 102892, 4896, 252888, 645, 43781, 3275, 1397, 17373, 10370, 6118, 65371, 36990, 2182, 160776, 29196, 22438, 73976, 9470, 20893, 12343, 69276, 29905, 6137, 3512, 61065, 22967, 1015, 28848, 3864, 51190, 4966, 2249, 83067, 14466, 43665, 87855, 144119, 38951, 271454, 20953, 154581, 24749, 23103, 3133, 7949, 8523, 1168, 1468, 12355, 3718, 26044, 18585, 134950, 736, 9459, 28013, 577072, 14586, 58162, 34074, 29019, 20036, 7890, 459, 7360, 72069, 52011, 6113, 13083, 300, 18407, 212717, 12331, 2828, 82699, 2576, 30704, 18308, 5410, 209440, 10582, 6298, 829573, 16918, 259940, 57764, 4156, 178809, 16839, 49666, 45846, 2847, 77441, 773, 120712, 333, 28754, 2532, 84370, 14939, 11615, 58895, 95270, 7966, 44875, 225006, 72025, 4517, 7164, 53362, 5222, 435313, 51605, 78014, 5474, 245, 17000, 750, 888, 748, 9520, 136439, 80773, 63679, 220886, 5991, 180513, 14686, 22427, 3525, 1812, 297435, 34822, 232, 598718, 3671, 1502, 91549, 2974, 12819, 547173, 286959, 35325, 4740, 2863, 17679, 23629, 3915, 6632, 13699, 27432, 4057, 16372, 82155, 165720, 55503, 76071, 15152, 2705, 67017, 11039, 4767, 244003, 3649, 83345, 28768, 488, 5611, 125074, 13016, 28249, 95587, 4641, 14958, 10098, 11165, 39910, 277588, 2894, 63533, 22515, 695, 68779, 269532, 2743, 7839, 1629, 28008, 83290, 626, 71228, 4390, 388, 17092, 4775, 9211, 659, 12998, 77410, 22030, 41174, 70174, 7431, 2525, 195, 37291, 9092, 59347, 83541, 2703, 4742, 4403, 321, 58926, 40065, 30068, 24632, 93377, 64, 286794, 15377, 102861, 169531, 6266, 32197, 72975, 69018, 5106, 67917, 3264, 129966, 121715, 16393, 20247, 76510, 52746, 37421, 4391, 36816, 6797, 21331, 188884, 2691, 133147, 14184, 30443, 11047, 78793, 87483, 67779, 2158, 416, 4675, 13607, 27559, 16708, 167161, 8108, 4247, 4382, 936, 19792, 72025, 161549, 293, 5056, 1186, 32306, 130152, 96636, 869, 124430, 33206, 1422, 673, 3880, 1897, 7117, 63434, 2952, 163913, 210415, 135803, 26559, 59373, 4590, 24512, 76218, 198, 15609, 13734, 380311, 70387, 12972, 22968, 17725, 34460, 5732, 80211, 2123, 64427, 8299, 81316, 1622, 74554, 915764, 73804, 1092, 21558, 23431, 60463, 8398, 62530, 3492, 257, 140693, 307, 6833, 2203, 13733, 13976, 19264, 7865, 45883, 721, 20646, 46874, 384478, 266427, 1437, 11999, 1419, 6057, 24546, 297592, 899, 126, 153170, 7123, 30805, 2963, 223586, 3099, 47372, 21861, 48809, 72077, 29676, 38839, 34669, 8086, 416, 30023, 20124, 714365, 8348, 2751, 127541, 133845, 493795, 6829, 4438, 7861, 45707, 14800, 19275, 2432, 9876, 5594, 18104, 8775, 67886, 1094, 8651, 7696, 2410, 92860, 620379, 792, 4392, 35149, 59276, 15155, 257110, 80072, 209024, 15644, 13499, 6889, 2619, 242427, 4034, 26500, 336168, 25661, 15823, 3486, 81431, 36774, 77781, 19309, 89372, 85, 681, 12301, 55754, 80362, 123294, 306559, 6171, 213261, 110656, 24242, 399926, 131, 918, 641, 46057, 23396, 1502, 22334, 54132, 243566, 2400, 5749, 4805, 17429, 26442, 2216, 133304, 35175, 89785, 75781, 264173, 42454, 160233, 29945, 28096, 65086, 13772, 99457, 30491, 130422, 153787, 33577, 645103, 2322, 125326, 23527, 4159, 2411, 52033, 2817, 17832, 48956, 92868, 4225, 71287, 26245, 2180, 538687, 20, 1314, 14708, 4482, 13134, 985, 96, 61894, 9307, 14748, 38804, 10345, 79922, 636458, 110927, 26935, 22095, 7863, 4528, 217509, 45842, 12371, 10408, 114396, 6204, 28188, 55102, 466, 42336, 82596, 64578, 14673, 222842, 25025, 29319, 39847, 63869, 15743, 218032, 12218, 137078, 13066, 19231, 83419, 12769, 82680, 24741, 3469, 1629, 2085, 62008, 7327, 12584, 214348, 179957, 130760, 4896, 4840, 22179, 21776, 231301, 2531, 45018, 33748, 4556, 968, 1298, 954, 99554, 109897, 36098, 55752, 131467, 81801, 42529, 22003, 1348, 14208, 129913, 41137, 38954, 22148, 26095, 70245, 146828, 33139, 113008, 674, 66989, 22357, 71991, 153587, 13506, 153456, 314, 719955, 4999, 17020, 2198, 13656, 589864, 20721, 8653, 3584, 56543, 14574, 1113, 54282, 18661, 516, 11577, 43594, 5049, 1174, 61148, 82353, 64266, 23298, 308566, 7039, 40973, 73849, 23947, 32043, 3704, 90201, 94651, 214, 31904, 8622, 11544, 1911, 4525, 6341, 26899, 38457, 25979, 38895, 113774, 4945, 76412, 1091, 303064, 1032, 92622, 5540, 119046, 24333, 2802, 3263, 81301, 112109, 215, 353, 24882, 6591, 12502, 5289, 101371, 15025, 5104, 3034, 40424, 28062, 62551, 116091, 900, 43714, 155362, 3027, 49790, 63486, 7917, 27636, 242347, 14873, 7355, 5234, 369473, 263371, 5680, 5417, 51490, 140192, 87001, 175374, 170442, 2882, 8197, 212086, 1057, 132570, 1528, 579, 75666, 1621, 25733, 163447, 68522, 15049, 1878, 49915, 20348, 130207, 8093, 6520, 5196, 283334, 69126, 3018, 236, 3977, 3371, 5998, 5033, 4437, 34184, 1973, 70094, 11755, 5508, 89797, 67443, 89126, 9243, 6887, 75294, 2852, 43033, 9801, 69998, 125311, 163777, 84820, 17745, 12495, 963, 425576, 10617, 2881, 1084, 25358, 1752, 317703, 955532, 15007, 3043, 999, 6464, 8378, 147415, 3205, 127657, 204022, 12691, 159019, 28958, 1035, 9284, 5644, 50939, 17939, 51338, 4644, 224770, 16189, 57058, 129145, 4136, 17756, 377, 420783, 41657, 193, 5967, 20366, 28751, 7028, 45322, 8348, 47082, 1097, 53693, 17080, 84759, 18380, 11807, 21867, 39670, 81622, 34904, 15152, 48344, 35499, 12584, 3242, 2927, 234533, 16545, 25133, 6088, 4693, 60361, 30512, 6015, 1472, 49261, 69652, 241, 18242, 147, 14864, 19296, 9817, 93890, 445113, 23225, 24989, 48236, 13439, 3347, 14390, 51038, 74915, 48253, 2924, 354234, 22225, 4059, 19728, 1522, 1850, 88899, 847, 62612, 118, 193639, 248012, 5641, 44249, 37668, 11698, 11919, 125080, 938, 768, 565094, 27199, 2272, 4849, 3820, 50580, 44062, 1998, 44280, 18972, 10085, 259449, 9615, 157530, 6519, 43713, 23414, 6000, 48412, 734, 32995, 20616, 243901, 171, 22662, 53976, 5585, 2931, 24112, 4813, 203281, 36771, 27086, 53, 29399, 183, 60058, 120, 183070, 17184, 45190, 267, 146918, 74410, 22, 126398, 3910, 11860, 64895, 7116, 69514, 1428, 13620, 12310, 13417, 7317, 5265, 13959, 46279, 4378, 51535, 540647, 39748, 2434, 22089, 4646, 58496, 2932, 29002, 3683, 2274, 42853, 2562, 100832, 3727, 120, 9901, 67641, 33147, 17398, 19478, 79452, 24229, 240195, 1519, 7527, 6486, 632033, 23423, 7477, 23420, 3231, 7724, 1300, 850082, 17389, 21554, 25661, 16554, 2476, 101472, 55589, 5548, 48421, 62089, 2588, 2030, 124702, 25405, 2254, 183494, 16716, 768, 40877, 2192, 25009, 276, 1830, 1199, 961, 15396, 34172, 53165, 31289, 59294, 50522, 7082, 30549, 104789, 130883, 27415, 22467, 1344, 6573, 453012, 6892, 8860, 25142, 12299, 2428, 3273, 15373, 217, 40797, 46690, 4719, 20, 96725, 214863, 74231, 422, 24862, 12916, 14048, 29916, 676858, 6970, 35998, 88109, 452, 1972, 3304, 20957, 324240, 8206, 22083, 5918, 17989, 187, 10923, 9758, 761, 4914, 27757, 15470, 116715, 3229, 1728, 16519, 22281, 17907, 28059, 7539, 26166, 137, 21175, 1167, 725, 1209, 2899, 111601, 46876, 492, 15766, 38595, 52030, 25562, 2100, 2450, 66863, 63112, 18628, 10218, 2313, 294, 23409, 202, 7181, 54717, 5170, 21322, 149426, 20604, 41063, 17708, 3461, 3136, 42, 8172, 2576, 803799, 424, 104554, 15663, 1200, 7084, 3562, 856, 8687, 837562, 18175, 108507, 12236, 36998, 84484, 105743, 50320, 17300, 192323, 9728, 47751, 59576, 1223, 1380, 49750, 13048, 43327, 76530, 1067, 42552, 3329, 22936, 324, 16877, 6036, 1411, 5935, 48, 6393, 11078, 229931, 26934, 844, 29162, 116697, 28213, 8469, 136, 31738, 236071, 97637, 2042, 25659, 35379, 3093, 756, 112500, 18900, 409846, 1961, 77663, 22896, 21765, 651, 141956, 5498, 14979, 6071, 5526, 296321, 1142, 35856, 76211, 331258, 229005, 32126, 27133, 2166, 2132, 1494, 15565, 30683, 12727, 41221, 5403, 5308, 4292, 61819, 207982, 29641, 17676, 14162, 103512, 510895, 8419, 5019, 14475, 3756, 101453, 449274, 226799, 2341, 5400, 4133, 27940, 955, 43780, 116214, 84584, 69, 9495, 39935, 462260, 89969, 39456, 23898, 6499, 141440, 23219, 12578, 6976, 75967, 217946, 58147, 22447, 7140, 1093, 194397, 44374, 5800, 46070, 11264, 29585, 11514, 99169, 18896, 67492, 50398, 18202, 6506, 140581, 17117, 8142, 162068, 7510, 2399, 38185, 12683, 1062, 48877, 11554, 6288, 51272, 546, 674, 272315, 3144, 37984, 7195, 84327, 51725, 111145, 7335, 2836, 8789, 295719, 82204, 50823, 87261, 70027, 10960, 352730, 14474, 824, 23763, 1545, 146342, 221880, 5725, 48705, 4542, 544, 5804, 5455, 1265, 2076, 284, 805, 70458, 60705, 27761, 47121, 8858, 53576, 2445, 1624, 113841, 176076, 47464, 15522, 3508, 282, 24, 473, 37149, 13595, 39, 154672, 32283, 6560, 144, 2286, 15882, 22883, 7413, 3996, 30819, 2512, 13324, 175234, 1381, 116, 30180, 11901, 1237, 30]\n",
      "(2002178,)\n"
     ]
    }
   ],
   "source": [
    "print 'See how frequent the words are: ',[counts[k] for k in idx_to_preserve]\n",
    "print counts.shape"
   ]
  },
  {
   "cell_type": "code",
   "execution_count": 10,
   "metadata": {
    "collapsed": false
   },
   "outputs": [
    {
     "name": "stdout",
     "output_type": "stream",
     "text": [
      "[      8      20      20 ..., 1166540 1237259 1939615]\n",
      "20254 1999962 184 2002178\n"
     ]
    }
   ],
   "source": [
    "MAXVOCAB   = 20000\n",
    "sorted_idx = list(set(np.argsort(counts)[-MAXVOCAB:].tolist() + idx_to_preserve))\n",
    "print np.sort(counts[sorted_idx])\n",
    "\n",
    "print  len(sorted_idx),np.max(sorted_idx),np.min(sorted_idx),len(vocab)\n",
    "#Add vectors corresponding to embedding words"
   ]
  },
  {
   "cell_type": "code",
   "execution_count": 11,
   "metadata": {
    "collapsed": false
   },
   "outputs": [
    {
     "name": "stdout",
     "output_type": "stream",
     "text": [
      "0 1726\n"
     ]
    }
   ],
   "source": [
    "#Check absentees\n",
    "aidx = []\n",
    "for idx in idx_to_preserve: \n",
    "    if idx not in sorted_idx:\n",
    "        aidx.append(idx)\n",
    "print len(aidx),len(idx_to_preserve)"
   ]
  },
  {
   "cell_type": "code",
   "execution_count": 12,
   "metadata": {
    "collapsed": false
   },
   "outputs": [
    {
     "name": "stdout",
     "output_type": "stream",
     "text": [
      "3492\n"
     ]
    }
   ],
   "source": [
    "#Number of words we're double counting ~ 4k should be OK\n",
    "subset_w = [vocab[i] for i in sorted_idx]\n",
    "dblct    = []\n",
    "for w in subset_w:\n",
    "    if p.singular_noun(w) in subset_w:\n",
    "        dblct.append(w)\n",
    "print len(dblct)"
   ]
  },
  {
   "cell_type": "code",
   "execution_count": 13,
   "metadata": {
    "collapsed": false
   },
   "outputs": [],
   "source": [
    "data_subset = data.tocsc()[:,sorted_idx].tocsr()"
   ]
  },
  {
   "cell_type": "code",
   "execution_count": 14,
   "metadata": {
    "collapsed": false
   },
   "outputs": [],
   "source": [
    "features_subset = [vocab[k] for k in sorted_idx]"
   ]
  },
  {
   "cell_type": "code",
   "execution_count": 15,
   "metadata": {
    "collapsed": true
   },
   "outputs": [],
   "source": [
    "features_subset_singular = []\n",
    "for w in features_subset:\n",
    "    kk = p.singular_noun(w)\n",
    "    if kk:\n",
    "        features_subset_singular.append(kk)\n",
    "    else:\n",
    "        features_subset_singular.append(w)"
   ]
  },
  {
   "cell_type": "code",
   "execution_count": 16,
   "metadata": {
    "collapsed": true
   },
   "outputs": [],
   "source": [
    "features_subset          = np.array(features_subset)\n",
    "features_subset_singular = np.array(features_subset_singular)"
   ]
  },
  {
   "cell_type": "code",
   "execution_count": 17,
   "metadata": {
    "collapsed": false
   },
   "outputs": [
    {
     "name": "stdout",
     "output_type": "stream",
     "text": [
      "sincere not found\n",
      "y2k not found\n"
     ]
    }
   ],
   "source": [
    "#Check that all the embeddings are availdble here (Except 3)\n",
    "#Find all the words they map to\n",
    "mapIdx = {}\n",
    "for w in vocab_emb:\n",
    "    if w in features_subset:\n",
    "        idxlst_vocab = np.where(w==features_subset)[0].tolist()\n",
    "        assert len(idxlst_vocab)==1,'nsd'\n",
    "        mapIdx[w] = idxlst_vocab[0]\n",
    "    elif w in features_subset_singular:\n",
    "        idxlst = np.where(w==features_subset_singular)[0].tolist()\n",
    "        assert len(idxlst)==1,'nsd'\n",
    "        mapIdx[w] = idxlst[0]\n",
    "    else:\n",
    "        print w, 'not found'"
   ]
  },
  {
   "cell_type": "code",
   "execution_count": 20,
   "metadata": {
    "collapsed": false
   },
   "outputs": [
    {
     "name": "stdout",
     "output_type": "stream",
     "text": [
      "2702.0 (3035070, 20254)\n",
      "(1213781,)\n",
      "(1213781, 20254)\n"
     ]
    }
   ],
   "source": [
    "#csr_matrix((data, indices, indptr), shape=(3, 3)).toarray()\n",
    "print data_subset.max(),data_subset.shape\n",
    "doccts = data_subset.max(1).toarray().squeeze()\n",
    "docs_keep_idx = np.where(doccts>5)[0]\n",
    "print docs_keep_idx.shape\n",
    "\n",
    "data_subset_minlen = data_subset[docs_keep_idx]\n",
    "print data_subset_minlen.shape"
   ]
  },
  {
   "cell_type": "code",
   "execution_count": null,
   "metadata": {
    "collapsed": true
   },
   "outputs": [],
   "source": []
  },
  {
   "cell_type": "code",
   "execution_count": null,
   "metadata": {
    "collapsed": false
   },
   "outputs": [],
   "source": [
    "#Restrict the documents\n",
    "np.random.seed(1)\n",
    "shufidx = np.random.permutation(data_subset_minlen.shape[0])\n",
    "\n",
    "test_idx    = shufidx[:10000]\n",
    "valid_idx   = shufidx[10000:12000]\n",
    "train_idx   = shufidx[12000:]\n",
    "\n",
    "TRAIN = data_subset_minlen[train_idx]\n",
    "VALID = data_subset_minlen[valid_idx]\n",
    "TEST  = data_subset_minlen[test_idx]\n",
    "print TRAIN.shape, VALID.shape, TEST.shape"
   ]
  },
  {
   "cell_type": "code",
   "execution_count": null,
   "metadata": {
    "collapsed": false
   },
   "outputs": [],
   "source": [
    "cts_train = np.array(TRAIN.sum(0)).squeeze()\n",
    "for k in mapIdx.values():\n",
    "    if cts_train[k]<2:\n",
    "        print features_subset[k],features_subset_singular[k],cts_train[k]"
   ]
  },
  {
   "cell_type": "code",
   "execution_count": null,
   "metadata": {
    "collapsed": true
   },
   "outputs": [],
   "source": [
    "os.system('rm -rf ./wikicorp/data.h5 ./wikicorp/misc.pkl')\n",
    "saveSparseHDF5(TRAIN, 'train', './wikicorp/data.h5')\n",
    "saveSparseHDF5(VALID, 'valid', './wikicorp/data.h5')\n",
    "saveSparseHDF5(TEST,  'test' , './wikicorp/data.h5')\n",
    "savePickle([mapIdx,features_subset,features_subset_singular],'./wikicorp/misc.pkl')"
   ]
  }
 ],
 "metadata": {
  "kernelspec": {
   "display_name": "Python 2",
   "language": "python",
   "name": "python2"
  },
  "language_info": {
   "codemirror_mode": {
    "name": "ipython",
    "version": 2
   },
   "file_extension": ".py",
   "mimetype": "text/x-python",
   "name": "python",
   "nbconvert_exporter": "python",
   "pygments_lexer": "ipython2",
   "version": "2.7.3"
  }
 },
 "nbformat": 4,
 "nbformat_minor": 0
}
