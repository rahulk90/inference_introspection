{
 "cells": [
  {
   "cell_type": "code",
   "execution_count": 1,
   "metadata": {
    "collapsed": false
   },
   "outputs": [],
   "source": [
    "#Debugging finopt\n",
    "#Visualize Samples from the model\n",
    "import sys,os,glob\n",
    "sys.path.append('../../')\n",
    "import numpy as np\n",
    "%matplotlib inline\n",
    "import operator\n",
    "from sklearn.metrics.pairwise import pairwise_distances\n",
    "from sklearn import cluster\n",
    "from collections import OrderedDict\n",
    "import matplotlib.pyplot as plt\n",
    "import matplotlib as mpl\n",
    "mpl.rcParams['lines.linewidth']=2.5\n",
    "mpl.rcParams['lines.markersize']=8\n",
    "#mpl.rcParams['text.usetex']=True\n",
    "mpl.rcParams['text.latex.unicode']=True\n",
    "mpl.rcParams['font.family'] = 'serif'\n",
    "mpl.rcParams['font.serif'] = 'Times New Roman'\n",
    "mpl.rcParams['text.latex.preamble']= ['\\\\usepackage{amsfonts}','\\\\usepackage{amsmath}']\n",
    "mpl.rcParams['font.size'] = 20\n",
    "mpl.rcParams['axes.labelsize']=20\n",
    "mpl.rcParams['legend.fontsize']=20\n",
    "\n",
    "from matplotlib import markers\n",
    "from matplotlib import colors\n",
    "clist = colors.cnames.keys()\n",
    "mlist = markers.MarkerStyle().markers.keys()\n",
    "\n",
    "#http://stackoverflow.com/questions/22408237/named-colors-in-matplotlib\n",
    "from utils.misc import getConfigFile, readPickle, loadHDF5, createIfAbsent, saveHDF5\n",
    "from optvaeutils.viz import getName,stitchMNISTSamples\n",
    "from sklearn.feature_extraction.text import TfidfTransformer\n",
    "#STORAGE FOR FINAL RESULT\n",
    "result   = {}"
   ]
  },
  {
   "cell_type": "code",
   "execution_count": 2,
   "metadata": {
    "collapsed": false
   },
   "outputs": [
    {
     "name": "stdout",
     "output_type": "stream",
     "text": [
      "Couldn't import dot_parser, loading of dot files will not be possible.\n"
     ]
    },
    {
     "name": "stderr",
     "output_type": "stream",
     "text": [
      "Using gpu device 0: GeForce GTX TITAN (CNMeM is disabled, cuDNN 4007)\n"
     ]
    }
   ],
   "source": [
    "from optvaemodels.vae import VAE\n",
    "import optvaemodels.vae_learn as VAE_learn\n",
    "import optvaemodels.vae_evaluate as VAE_evaluate\n",
    "import optvaemodels.vae_learn as VAE_learn\n",
    "import itertools,time\n",
    "from utils.misc import readPickle"
   ]
  },
  {
   "cell_type": "code",
   "execution_count": 3,
   "metadata": {
    "collapsed": false
   },
   "outputs": [
    {
     "name": "stdout",
     "output_type": "stream",
     "text": [
      "/data/ml2/rahul/opt-vae/optvaedatasets/wikipedia/wikipedia.h5  found\n",
      "Using: /data/ml2/rahul/opt-vae/optvaedatasets/wikipedia/wikipedia.h5\n",
      "['vocabulary', 'data_type', 'dim_observations', 'train', 'test', 'valid']\n"
     ]
    }
   ],
   "source": [
    "from datasets.load import loadDataset\n",
    "import sys\n",
    "sys.path.append('../../')\n",
    "from optvaedatasets.load import loadDataset as LDVAE\n",
    "\n",
    "#DATA = 'binarized_mnist'\n",
    "#DATA = '20newsgroups_miao'\n",
    "#DATA = 'rcv2_miao'\n",
    "DATA = 'wikipedia'\n",
    "\n",
    "if DATA == 'binarized_mnist':\n",
    "    dataset = loadDataset(DATA)\n",
    "else:\n",
    "    dataset = LDVAE(DATA)\n",
    "print dataset.keys()\n",
    "additional_attrs        = {}\n",
    "tfidf                   = TfidfTransformer(norm=None)\n",
    "tfidf.fit(dataset['train'])\n",
    "#Get normalized idf vectors\n",
    "additional_attrs['idf'] = tfidf.idf_"
   ]
  },
  {
   "cell_type": "code",
   "execution_count": 4,
   "metadata": {
    "collapsed": false
   },
   "outputs": [
    {
     "name": "stdout",
     "output_type": "stream",
     "text": [
      "wiki\n",
      "False\n"
     ]
    }
   ],
   "source": [
    "if '20newsgroups' in DATA:\n",
    "    print 'news'\n",
    "    EP    = '80'; pl    = 2\n",
    "    rfile = '../../expt/results-sept6/chkpt-20newsgroups_miao-finopt/VAE_lr-8_0e-04-ph-400-ds-100-pl-'+str(pl)+'-ql-2-nl-relu-bs-500-ep-500-plr-1_0e-02-repK-None-ar-0-otype-finopt-ns-100-om-adam-qs-standard-mod-vae-afr-0-gn-0_0e+00-etype-mlp-p_up-10-q_up-10-pr-normal-al-5_0e-01l20_01_-uid'\n",
    "elif 'rcv2' in DATA:\n",
    "    print 'rcv2'\n",
    "    EP    = '400'; pl    = 2\n",
    "    rfile = '../../expt/results-sept6/chkpt-rcv2_miao-finopt/VAE_lr-8_0e-04-ph-400-ds-100-pl-'+str(pl)+'-ql-2-nl-relu-bs-500-ep-500-plr-1_0e-02-repK-None-ar-0-otype-finopt-ns-100-om-adam-qs-standard-mod-vae-afr-0-gn-0_0e+00-etype-mlp-p_up-10-q_up-10-pr-normal-al-5_0e-01l20_01_-uid'\n",
    "elif 'wikipedia' in DATA:\n",
    "    print 'wiki'\n",
    "    EP    = '100'; pl    = 2\n",
    "    rfile = '../../expt/chkpt-wikipedia-finopt/VAE_lr-8_0e-04-ph-400-ds-100-pl-'+str(pl)+'-ql-2-nl-relu-bs-500-ep-100-plr-1_0e-02-repK-None-ar-0-otype-finopt-ns-100-om-adam-qs-standard-mod-vae-afr-0-gn-0_0e+00-etype-mlp-p_up-10-q_up-10-pr-normal-al-5_0e-01-itype-tfidfl20_01_-uid'\n",
    "    print os.path.exists(rfile)\n",
    "else:\n",
    "    assert False,'Done'"
   ]
  },
  {
   "cell_type": "code",
   "execution_count": 5,
   "metadata": {
    "collapsed": false
   },
   "outputs": [
    {
     "name": "stdout",
     "output_type": "stream",
     "text": [
      "\t<<Reloading Model>>\n",
      "\t<<Loading structure (../../expt/chkpt-wikipedia-finopt/VAE_lr-8_0e-04-ph-400-ds-100-pl-2-ql-2-nl-relu-bs-500-ep-100-plr-1_0e-02-repK-None-ar-0-otype-finopt-ns-100-om-adam-qs-standard-mod-vae-afr-0-gn-0_0e+00-etype-mlp-p_up-10-q_up-10-pr-normal-al-5_0e-01-itype-tfidfl20_01_-uid-config.pkl) and model (../../expt/chkpt-wikipedia-finopt/VAE_lr-8_0e-04-ph-400-ds-100-pl-2-ql-2-nl-relu-bs-500-ep-100-plr-1_0e-02-repK-None-ar-0-otype-finopt-ns-100-om-adam-qs-standard-mod-vae-afr-0-gn-0_0e+00-etype-mlp-p_up-10-q_up-10-pr-normal-al-5_0e-01-itype-tfidfl20_01_-uid-EP100-params.npz) / opt (../../expt/chkpt-wikipedia-finopt/VAE_lr-8_0e-04-ph-400-ds-100-pl-2-ql-2-nl-relu-bs-500-ep-100-plr-1_0e-02-repK-None-ar-0-otype-finopt-ns-100-om-adam-qs-standard-mod-vae-afr-0-gn-0_0e+00-etype-mlp-p_up-10-q_up-10-pr-normal-al-5_0e-01-itype-tfidfl20_01_-uid-EP100-optParams.npz) weights>>\n",
      "\t<<Nparameters: 6611105>>\n",
      "\t<<Setting idf as theano shared variable>>"
     ]
    },
    {
     "name": "stderr",
     "output_type": "stream",
     "text": [
      "/data/ml2/rahul/theanomodels/models/__init__.py:198: UserWarning: iter_ctr found in npWeights. No action taken\n",
      "  warnings.warn(name+\" found in npWeights. No action taken\")\n",
      "/data/ml2/rahul/theanomodels/models/__init__.py:198: UserWarning: anneal found in npWeights. No action taken\n",
      "  warnings.warn(name+\" found in npWeights. No action taken\")\n",
      "/data/ml2/rahul/theanomodels/models/__init__.py:198: UserWarning: lr found in npWeights. No action taken\n",
      "  warnings.warn(name+\" found in npWeights. No action taken\")\n"
     ]
    },
    {
     "name": "stdout",
     "output_type": "stream",
     "text": [
      "\n",
      "\t<<Inference with dropout :0.0000>>\n",
      "\t<<Optimizing variational parameters w/ ADAM>>\n",
      "\t<<Evaluation: Setting opt_method: ADAM, 100 steps w/ 8e-3 lr>>\n",
      "\t<<Inference with dropout :0.0000>>\n",
      "\t<<Optimizing variational parameters w/ ADAM>>\n",
      "\t<<Inference with dropout :0.0000>>\n",
      "\t<<Optimizing variational parameters w/ ADAM>>\n",
      "\t<<Modifying : [p_mean_W,p_1_b,p_1_W,p_mean_b,p_0_W,p_0_b]>>\n",
      "\t<<# additional updates: 0>>\n",
      "\t<<Modifying : [q_logcov_b,q_1_b,q_logcov_W,q_0_W,q_mu_W,q_1_W,q_0_b,q_mu_b]>>\n",
      "\t<<Inference with dropout :0.0001>>\n",
      "\t<<Done creating functions for training>>\n",
      "\t<<_buildModel took : 154.0779 seconds>>\n",
      "\t<<Modifying : [p_mean_W,p_1_b,p_1_W,p_mean_b,p_0_W,p_0_b]>>\n"
     ]
    }
   ],
   "source": [
    "suffix= '-EP'+EP+'-params.npz'\n",
    "rfile+= suffix\n",
    "pfile = rfile.split('uid')[0]+'uid-config.pkl'\n",
    "params= readPickle(pfile)[0]\n",
    "vae   = VAE(params, paramFile=pfile, reloadFile=rfile, additional_attrs = additional_attrs)"
   ]
  },
  {
   "cell_type": "code",
   "execution_count": 6,
   "metadata": {
    "collapsed": false
   },
   "outputs": [],
   "source": [
    "%load_ext autoreload\n",
    "%autoreload 2\n",
    "from optvaemodels.evaluate_vecs import evaluateWordVectors, modeJacobian ,evaluateConditionalWordVectors\n",
    "from optvaemodels.evaluate_vecs import expectedJacobian,visualizePolysemousWords"
   ]
  },
  {
   "cell_type": "code",
   "execution_count": null,
   "metadata": {
    "collapsed": true
   },
   "outputs": [],
   "source": []
  },
  {
   "cell_type": "code",
   "execution_count": 7,
   "metadata": {
    "collapsed": false
   },
   "outputs": [
    {
     "name": "stdout",
     "output_type": "stream",
     "text": [
      "Estimated  0  times\n"
     ]
    }
   ],
   "source": [
    "#jacob  = modeJacobian(vae)\n",
    "jacob  = expectedJacobian(vae,nsamples = 20)"
   ]
  },
  {
   "cell_type": "code",
   "execution_count": 8,
   "metadata": {
    "collapsed": false,
    "scrolled": false
   },
   "outputs": [
    {
     "name": "stdout",
     "output_type": "stream",
     "text": [
      "israel ['israel', 'jerusalem', 'syria', 'arab', 'hebrew', 'turkey', 'jews']\n",
      "weapon ['weapon', 'weapons', 'ammunition', 'attack', 'gun', 'enemy', 'guns']\n",
      "book ['book', 'books', 'memoirs', 'writer', 'dearest', 'wrote', 'marrying']\n",
      "companies ['companies', 'proprietary', 'company', 'revenue', 'manufacture', 'corporation', 'industry']\n",
      "medical ['medical', 'physicians', 'physician', 'patients', 'surgeon', 'patient', 'treatment']\n",
      "0 yellow,woods,lord,meadows,wooden,owes,provincial,shores,revolt,wine,wales,corridor,bitter,tree,dozen,victoria,mouth,grove,nineteenth,rice,admiral,country,union,eastern,rebellion,east,old,crown,inside,flood,honour,winter,edinburgh,natural,neighbourhood,siege,open,city,lawn,atlantic,salt,walking,residence,boat,plantation,west,canoes,overthrow,colony,stone,tropical,carved,hunting,sand,small,situated,plant,isle,castle,major,river,sea,fire,towns,sydney,australia,tribes,spring,palm,pale,occasional,land,iii,jurisdiction,garden,harbor,wheat,indian,bird,great,animals,rode,animal,beneath,traces,agriculture,five,springs,roads,basin,monument,irish,forests,rural,gardens,oldest,settlement,pursuit,smoke,india,indies,boats,beach,customs,lay,arch,mayor,pines,coffee,bank,rocky,forts,grave,squadron,cattle,travellers,received,royal,monarch,hills,cape,retreat,purple,creek,sovereign,snowy,welcome,shared,car,armies,southern,birds,vicinity,saxon,cars,marine,british,palaces,sheep,flowers,america,ground,soil,ship,northward,centuries,fruit,tradition,lady,central,area,cottage,administered,green,building,homes,streets,family,history,species,invasion,banks,food,foot,surrounded,drink,houses,revolutionary,american,meadow,horse,garrison,charlotte,lie,scotland,trees,maintenance,territory,wet,settlements,lakes,cotton,ancestors,transport,neighbouring,farms,northern,clare,crossed,located,farm,swimming,crossing,sands,route,distinguished,portrait,gallery,construction,places,southward,surface,distant,utah,historic,belonged,dominion,museum,imperial,north,westminster,new,dry,county,wars,inhabited,roof,navy,villages,street,modern,sugar,monuments,coast,fields,bay,sail,seven,colonies,sailors,erected,islands,lies,fort,mile,eating,canadian,pine,map,inhabitants,african,canada,miles,plains,sailing,occupied,fortified,interior,track,black,seas,eighteenth,parent,borders,oil,railroad,served,colonial,island,road,lands,fertile,deer,decorated,fall,neighborhood,creatures,africa,town,marble,coal,late,walls,oxford,house,flower,copper,park,built,province,visiting,ireland,century,timber,valleys,magnificent,expedition,desert,rivers,body,trail,train,native,forest,buildings,waters,agricultural,bridges,acres,descendants,south,ancient,sixteenth,slopes,monarchy,swallow,statues,climate,plain,administration,onward,lake,authority,lieutenant,tomb,ridge,oak,granite,feeding,blue,fortress,london,lair,independence,rail,western,bridge,queen,ruins,beer,natives,ocean,burnt,gift,montana,civil,inland,port,water,prey,local,districts,branches,farmer,name,origin,continent,district,white,population,officials,prosperity,gulf,wood,farmers,cities,region,railway,peaceful,mount,marys,nest,driver,statue,rose,kingdom,pacific,rising,england,valley,fish,grass,britain,present,highway,tea,naval,horses,known,shore,avenue,hill,fallen,art,bark,barn,harbour,village,brick,plants,georgia,dublin,peoples,mountain,prince,workers,canal,long,mountains,winds,settlers,capital,united,six,flour,frontier,mules,westward,centre,huts,grain,wall,walk,provinces,painted,fishing,scottish,growth,empire,leaf,mines,throne,emperor,wilderness,breeding,branch\n",
      "1 miller,mason,gilbert,louise,dave,joseph,jane,jim,williams,allen,phil,roger,harry,richard,morgan,hugh,scott,chester,owen,amy,stuart,lee,holmes,warren,david,davis,nancy,matthew,columbia,paul,emma,edward,sarah,john,albert,lewis,jerry,moore,frederick,charles,hannah,franklin,abraham,samuel,francis,robert,douglas,anthony,frances,william,michael,nicholas,clark,evelyn,lincoln,martin,walter,herbert,luther,murray,alfred,helen,christopher,earl,vernon,jones,elizabeth,bob,dick,anne,johnson,jackson,keith,rachel,norman,mark,mary,emily,leonard,robinson,hart,thomas,bill,ruth,jimmy,ellen,gordon,butler,morris,harold,frank,bernard,ralph,janet,johnny,jack,henry,ernest,edith,eugene,fred,charlie,campbell,anderson,roy,russell,wallace,hamilton,george,ann,sherman,stanley,howard,andrew,arnold,eleanor,porter,gregory,augustus,taylor,lawrence,susan,stephen,benjamin,wilson,arthur,andy,graham,peter,dale,simon,tom,billy,philip,horace,tommy,martha,dorothy,joe,smith,james,margaret\n",
      "3 haben,leurs,mots,kingdoms,peut,aurait,toute,doit,prit,welche,vais,zich,plusieurs,bonne,tilde,avait,extremity,mre,cette,vaan,alles,peur,ceux,oder,keine,quun,mehr,personne,quelque,avec,contre,toujours,lettre,tion,demande,bruit,heeft,pouvoir,waren,comme,doch,persia,cest,ihr,ihn,sehr,ett,raison,milieu,gegen,jusqu,nombre,enfants,diesen,dieser,jetzt,prendre,diese,quelques,zur,ikke,deux,wird,leur,vrai,constantinople,ein,soir,philosophers,oxen,chambre,vers,sovereignty,capitaine,kein,voor,lordship,efter,bonheur,rulers,autres,cela,votre,parce,heure,consecrated,hommes,mein,maintenant,leben,parte,sagen,shew,soames,moins,fois,auf,sobre,nicht,reste,quoi,famille,jours,sais,une,aller,quand,zum,hnen,dieu,hither,savoir,ook,nous,mais,comte,dass,fille,nouveau,quelle,naar,fils,einmal,christs,cultivation,sondern,surtout,nach,travail,nobility,puis,bij,peu,depuis,oer,elles,yeux,sind,sont,souvent,frau,whereof,eux,eut,das,waar,seiner,mij,wurde,uit,gleich,toutes,mijn,veut,assez,niin,nouvelle,autre,geen,aujourdhui,unter,seule,avons,vient,sera,chaque,hebben,peuple,celui,euch,heathen,toen,temples,maison,apres,hij,femmes,ciel,skall,crois,mutta,plaisir,matre,abode,zeit,grandes,mouvement,oui,nuit,faut,vegetation,niet,luminous\n",
      "5 eagerly,heartily,momentary,bursting,keenly,attentive,truths,expend,reverence,dispose,choses,listened,industrious,doorway,sped,bewildered,amazement,enlightened,thoughtfully,warmth,humbly,flatter,astonished,veiled,helpless,wonderfully,spacious,shouts,arisen,unpleasant,accustomed,passionately,perceive,imitate,amiable,conceal,annoyance,awhile,contented,communicated,silently,whispered,comprehend,amazed,astonishment,obeyed,compliments,admiring,pleasing,freshness,firmness,perplexed,softened,conceive,entertained,mouths,delicacy,vices,finely,willingly,innumerable,amuse,wandered,treachery,desolate,applause,hesitation,shrewd,betray,instinctive,beautifully,affectionate,impatient,indulged,alarmed,penetrate,deceived,eagerness\n",
      "6 poboxcom,rpondit,quune,lavait,None,gutenbergnet,quils,javais,cetait,gbnewby,pglaforg,davoir,ntait\n",
      "7 october,november,december,january,march,august,february,september,july,april,june\n",
      "8 admirably,exclaimed,demanded,played,marched,succeeding,protested,undertook,bade,rewarded,jumped,gratefully,consulted,endured,expenditures,destitute,prevailed,depart,fiercely,waved,pleaded,exclusions,owed,admission,spending,resign,eben,strengthened,dazzling,wel,tossed,pension,refusing,exercised,accounted,responded,blamed,honoured,englishmen,bestowed,fortunately,aint,honours,complexion,sest,discontinue,earnest,invested,pledged,witnessed,losses,attendant,punitive,salary,patriotism,league,recalled,spectators,rested,maam,betwixt,spared,expenditure,payments,onder,persuaded,temperament,favoured,retire,debts,vows,magistrates,joka,amounted,relieve,excellency,heres,sworn,werd,promising,paa,footing,decisive,disastrous,struggling,feared,statesmen,resisted,foreigners,hoped,embarked,tremendous,tasted,admitted,coachman,reigned,shrank,settled,beiden,fairest,appealed,commence,confident,expenses,leagues,afore,clubs,steadily,contracted,roared,exertions,uncles,robbed,refusal,womans,snatched,reins,illustrious,goal,undertake,relieved,securing,declined,competent,boast,esteemed,impressed,tete,plead,bitterly,struggled,readiness,goals,vigor,loan\n",
      "10 boston,orleans,philadelphia,ohio,rhode,louisiana,arkansas,indiana,vermont,columbus,maine,massachusetts,nebraska,kansas,oregon,florida,michigan,jersey,delaware,washington,mississippi,texas,carolina,tennessee,chicago,hampshire,dakota,connecticut,iowa,alabama,kentucky,pennsylvania,virginia,missouri,wisconsin,york,illinois\n",
      "11 groaned,blushed,expends,vainly,disagreeable,trembled,rejoiced,anothers,weariness,beheld,comforted,reproach,canst,wearied,stooped,enemys,coldly,gasped,brows,impatiently,gratified,muttered,growled,groan,unenforceability,instinctively,theyd,gratify,hurrying,knelt,wickedness,hadnt,uneasiness,withal,feverish,unconsciously,entreated,smote,theyll,neednt,trifling,anxiously,tolerably,nodded,hoarse,werent,grieved,hasnt,sighed,chanced\n",
      "12 disturb,misfortunes,positively,wholesome,shalt,quaint,crying,exertion,echoed,commonplace,shaken,uttered,fastened,gloomy,cherished,refrain,pretend,darkened,limbs,intensely,emotion,shawl,cloak,motives,observe,perpetually,joyful,homely,puzzled,sweetness,attentions,murmur,overwhelmed,pleasures,compliment,etre,worthless,extravagant,forgiveness,irresistible,behave,exaggerated,expresses,procured,scent,behaved,vigorous,tortured,ingenious,allusion,injustice,pleasantly,incessant,posterity,specimens,behold,oppression,glittering,pierced,soothing,remorse,guilt,happiest,gratitude,springing,electronically,illustration,generosity,prayed,penetrated,repentance,staircase,thankful,thirst,contemplation,pluck,falsehood,sadness,forgive,praises,desperately,obedience,kindly,eaten,courteous,scanning,delights,utmost,worshipped,restrained,virtuous,kindled,melancholy,certainty,defective,picturesque,furiously,secretly,torment,interfere,tread,examined,indignation,glare,doubtless,inquired,kissed,clothed,reconciled,affords,bitterness,softly,ignorance,quantities,tastes,melted,dearly,paragraphs,wept,traits,apology,fancies,banished,ingenuity,deceive,richly,slept,marrying,distinctly,doings,countenance,acquainted,affection,examine,grasped,tedious,selfish,hideous,everlasting,pathetic,violently,timid,ornaments,virtues,bored,luxurious,implied,hint,respectful,doctrines,readable,hints,trembling,gazing,dreary,pouring,exceedingly,blessings,feelings,hopeless,consented,curtains,handkerchief,hostility,explanatory,intellect,rapidity,flushed,intimacy,irritated,prompt,swallowed,wrongs,inform,delighted,awfully,begging,labors,agitated,longing,kneeling,terrified,cursed,mischief,rubbed,glimpse,discern,pretext,hunted,imperfect,reckon,grotesque,precaution,learnt,forlorn,woke,frantic,morals,incidental,shapes,evils,tenderness,desires,confession,manifested,stamped,affections,respects,plainly,propriety,surroundings,indignant,subscribe,encouragement,presume,warranty,polished,betrayed,goodness,earthly\n",
      "13 holy,cathedral,spiritual,priest,church,religion,archbishop,preacher,parish,missionaries,bishops,religious,missionary,churches,protestant,jews,bible,sacred,monks,sermon,christians,christ,sorrows,pope,scripture,communion,congregation,clergy,cardinal,worship,priests,christianity,catholics,bishop,christian,roman,catholic\n",
      "14 china,aux,tres,este,esta,swiss,european,han,som,republic,ver,spanish,san,monde,het,sans,vie,mexican,alle,saint,aan,ses,vor,santa,reine,tre,mediterranean,les,pour,austrian,spain,juan,francisco,pedro,gli,egyptian,las,greek,japan,germany,bien,hans,arab,portuguese,jacques,israel,italians,german,seine,los,dios,syria,switzerland,brussels,poland,belgium,een,pierre,rue,pero,russian,wie,clara,austria,meer,mas,bei,ber,japanese,asia,mes,berlin,milan,ist,marie,maria,nevada,russia,una,und,mexico,chevalier,petit,din,ville,french,france,sous,mai,homme,dutch,california,rome,pas,der,des,del,den,trois,mme,sultan,portugal,italy,entre,che,que,qui,mir,greece,turks,arabic,antonio,italian,est,paris,della,henri,netherlands,claude,muy,jean,ich,rhine,athens,persian,europe,ang,ans,como,por,turkey,todos,madrid,oriental,chinese,ali,ter,tes,sus,sur,grande,dans,latin,duc,turkish,rien,vienna,egypt,tal,sie,sweden,jos,naples,var\n",
      "16 military,artillery,corps,regiment,sergeant,command,forces,war,battle,commander,commanded,soldier,officers,colonel,battles,soldiers,cavalry,army,generals,troops,brigade,infantry,allies,allied,officer,armed,weapons,regiments,guns,rifle,militia,ammunition,combat\n",
      "17 etexts,ueber,augen,endeavoured,nobler,erst,obedient,foi,pieds,haughty,autour,pretence,etwas,durch,anderen,eines,ainsi,suis,faintly,pris,zij,scanty,avoir,effectually,menschen,etext,ebook,sehen,nichts,ihrer,daar,soit,civilized,piety,desolation,interposed,disclaimers,labours,transcribe,encoding,aussi,quel,jamais,wij,zwischen,fuer,effet,poetical,proofs,foliage,einer,einen,sorte,supposing,andere,wherefore,immer,ebcdic,wretch,supposition,dich,beseech,sommes,livres,pourquoi,sufferings,repent,dieses,ohne,hypertext,donc,alors,peculiarly,zijn,thyself,endeavouring,seinem,insolent,barbarous,shadowy,fragrant,ihre,eine,utterance,lifes,gentleness,feudal,aristocracy,mieux,soll,goodly,saith,damsel,einem,earnestly\n",
      "18 faisait,allait,serait,besoin,croire,ayant,furent,sagte,mettre,voulait,disait,longtemps,fallait,wollte,veux,aucun,andern,laquelle,lorsque,lequel,meiner,pouvait,taient,voulu,doute,rendre,pourtant\n",
      "19 uttering,paperwork,leaped,unjust,dreamed,heretofore,endure,amusing,tempted,hasten,scorn,doth,contemplated,recollect,despair,despised,disgrace,wondering,odious,ignorant,unsolicited,compelled,shouted,ridiculous,worried,hastened,cheerfully,aroused,thickly,nothin,confided,amused,tremble,instincts,condemn,symptoms,begged,reared,justly,sympathies,warmly,pleases,despise,indifference,hostess,forgetting,devait,clasped,genial,carelessly,anxious,desiring,gladly,coolness,delightful,bother,trusting,perceiving,quitted,shudder,drank,hateful,afflicted,practise,forgiven,screamed,convince,rightly,monotonous,angrily,quivering,respectfully,inquiring,guessed,aristocratic,disclaim,sincerely,hesitated,jealousy,offend,trifle,inflicted,hurried,exerted,hurled,staid,shrill,worry,uneasy,innocence,intolerable,politeness,doubted,thoughtful,solicit,injure,offended,visage,unlink,contrived,terribly,wasnt,pretending,liked,sombre,censure,housekeeper,wouldnt,warlike,smiled,persuade,agreeable,confess,punish,thanked,shes,choked,impatience,flung,desirous,superstitious,eyebrows,messrs,assuredly,ghastly,indulge,leaned,calmly,dwelt,dwell,solemnly,occasioned,cruelly,lingering,niece,unworthy,confronted,regretted,clinging,jealous,youre,approbation,infinitely,frightened,assented,temper,fancied,swore,proofreading,proofread,clung,flattered,roused,cautiously,accusation,sincere,acquaintances,wifes,expressing,pretended,distracted,needful,sweetly,rubbing,bravely,bathed,skilful,forthwith,bosom,prejudices,countrymen,childish,circumstance,noblest,patiently,disappointed,acquaintance,errand,deprive,excused,ascertained,accuse,havent,uncomfortable,pleading,ashamed,didnt,flattering,sorrowful,embarrassed,enthusiastic,strove,admiration,foes,sidenote,reminds,stirred,stared,ridicule,disclaims,ventured,glances,glanced,awoke,frankly,laughed,orderly,disgust,aught,vexed,incapable,enfin,pitiful,displeasure,suspicions,vigorously,longed,confounded,slightest,eloquent,glancing,endeavored,professed,cured,reminded,complain,subdued,singularly,fearful,wretched,indebted,isnt,oppressed,alluded,sympathy,pains,insulted,drooping,dared,painfully,hinted,hurriedly,mingled,frightful,hatred,warmed,dismay,happier,obstinate,honestly,dearest,restrain,couldnt,worldly,realised,shabby,throng,swear,stirring\n"
     ]
    }
   ],
   "source": [
    "word_similarity, word_clusters = evaluateWordVectors(vae, jacob, dataset,n_clusters=20,metric='cosine')\n",
    "for w in word_similarity:\n",
    "    print w,word_similarity[w]\n",
    "for idx in word_clusters:\n",
    "    if len(word_clusters[idx].split(','))<500:\n",
    "        print idx,word_clusters[idx]"
   ]
  },
  {
   "cell_type": "code",
   "execution_count": null,
   "metadata": {
    "collapsed": false
   },
   "outputs": [],
   "source": []
  },
  {
   "cell_type": "code",
   "execution_count": null,
   "metadata": {
    "collapsed": false
   },
   "outputs": [],
   "source": [
    "results = evaluateConditionalWordVectors(vae, dataset,metric='cosine')"
   ]
  },
  {
   "cell_type": "code",
   "execution_count": null,
   "metadata": {
    "collapsed": false
   },
   "outputs": [],
   "source": [
    "for word in results:\n",
    "    for context in results[word]:\n",
    "        for itype in results[word][context]:\n",
    "            if itype=='random':\n",
    "                continue\n",
    "            print 'Word: ',word,' Context: ',context,' Input: ',itype,' Similar Words: ',results[word][context][itype]"
   ]
  },
  {
   "cell_type": "code",
   "execution_count": null,
   "metadata": {
    "collapsed": true
   },
   "outputs": [],
   "source": []
  },
  {
   "cell_type": "code",
   "execution_count": 9,
   "metadata": {
    "collapsed": false
   },
   "outputs": [
    {
     "name": "stdout",
     "output_type": "stream",
     "text": [
      "Processing: fire\n",
      "Word:  fire  Docs:  (90, 7702)\n",
      "( 0 ) ( 10 ) ( 20 ) ( 30 ) ( 40 ) ( 50 ) ( 60 ) ( 70 ) ( 80 ) \n",
      "\n",
      "Processing: light\n",
      "Word:  light  Docs:  (91, 7702)\n",
      "( 0 ) ( 10 ) ( 20 ) ( 30 ) ( 40 ) ( 50 ) ( 60 ) ( 70 ) ( 80 ) ( 90 ) \n",
      "\n",
      "Processing: bar\n",
      "Word:  bar  Docs:  (71, 7702)\n",
      "( 0 ) ( 10 ) ( 20 ) ( 30 ) ( 40 ) ( 50 ) ( 60 ) ( 70 ) \n",
      "\n",
      "Processing: bank\n",
      "Word:  bank  Docs:  (68, 7702)\n",
      "( 0 ) ( 10 ) ( 20 ) ( 30 ) ( 40 ) ( 50 ) ( 60 ) \n",
      "\n"
     ]
    }
   ],
   "source": [
    "results_viz = visualizePolysemousWords(vae, dataset)\n",
    "for w in results_viz:\n",
    "    print w,results_viz[w].shape"
   ]
  },
  {
   "cell_type": "code",
   "execution_count": 17,
   "metadata": {
    "collapsed": true
   },
   "outputs": [],
   "source": [
    "from sklearn import manifold\n",
    "\n",
    "def plot_embedding(X, title=None):\n",
    "    x_min, x_max = np.min(X, 0), np.max(X, 0)\n",
    "    X = (X - x_min) / (x_max - x_min)\n",
    "    plt.figure()\n",
    "    ax = plt.subplot(111)\n",
    "    for i in range(X.shape[0]):\n",
    "        plt.text(X[i, 0], X[i, 1])\n",
    "    plt.xticks([]), plt.yticks([])\n",
    "    if title is not None:\n",
    "        plt.title(title)"
   ]
  },
  {
   "cell_type": "code",
   "execution_count": 26,
   "metadata": {
    "collapsed": false
   },
   "outputs": [
    {
     "data": {
      "image/png": "[encoded data removed]",
      "text/plain": [
       "<matplotlib.figure.Figure at 0x46af8690>"
      ]
     },
     "metadata": {},
     "output_type": "display_data"
    }
   ],
   "source": [
    "tsne_results = {}\n",
    "fig,axlist = plt.subplots(2,len(results_viz)/2,figsize = (8,10))\n",
    "for idx,word in enumerate(results_viz):\n",
    "    tsne = manifold.TSNE(n_components=2, init='pca', random_state=0)\n",
    "    X_tsne = tsne.fit_transform(results_viz[word])\n",
    "    ax = axlist.ravel()[idx]\n",
    "    ax.scatter(X_tsne[:,0], X_tsne[:,1], alpha=0.5)\n",
    "    ax.set_xticks([])\n",
    "    ax.set_yticks([])\n",
    "    ax.set_title(word)"
   ]
  },
  {
   "cell_type": "code",
   "execution_count": 9,
   "metadata": {
    "collapsed": false
   },
   "outputs": [],
   "source": [
    "dset1 = LDVAE('scws')\n",
    "dset2 = LDVAE('wordsim353')\n",
    "#vocab = dset['vocabulary']\n",
    "vocab = [k.strip().split(' ')[0] for k in open('../../optvaedatasets/wikicorp/WestburyLab.wikicorp.201004.feat').readlines()]\n",
    "if isinstance(vocab,np.ndarray):\n",
    "    vocab = vocab.tolist()\n",
    "\n",
    "vocab_data = set(vocab)\n",
    "vocab_emb = set()\n",
    "for k in dset1:\n",
    "    vocab_emb.add(dset1[k]['w1'].lower().replace('-',''))\n",
    "    vocab_emb.add(dset1[k]['w2'].lower().replace('-',''))\n",
    "for k in dset2:\n",
    "    vocab_emb.add(dset2[k]['w1'].lower().replace('-',''))\n",
    "    vocab_emb.add(dset2[k]['w2'].lower().replace('-',''))"
   ]
  },
  {
   "cell_type": "code",
   "execution_count": 10,
   "metadata": {
    "collapsed": false
   },
   "outputs": [
    {
     "name": "stdout",
     "output_type": "stream",
     "text": [
      "under\n",
      "even\n",
      "call\n",
      "ms\n",
      "give\n",
      "side\n",
      "mine\n",
      "interest\n",
      "insufflate\n",
      "down\n",
      "still\n",
      "first\n",
      "take\n",
      "show\n",
      "get\n",
      "sincere\n",
      "being\n",
      "y2k\n",
      "fill\n",
      "further\n",
      "full\n",
      "found\n",
      "hundred\n",
      "put\n",
      "done\n",
      "part\n",
      "see\n",
      "last\n",
      "whole\n",
      "due\n",
      "fire\n",
      "bill\n",
      "back\n",
      "up\n",
      "move\n",
      "out\n",
      "keep\n",
      "system\n",
      "haven\n",
      "have\n",
      "computer\n",
      "cd\n",
      "five\n",
      "about\n"
     ]
    }
   ],
   "source": [
    "for k in vocab_emb:\n",
    "    if k not in vocab_data:\n",
    "        print k"
   ]
  }
 ],
 "metadata": {
  "kernelspec": {
   "display_name": "Python 2",
   "language": "python",
   "name": "python2"
  },
  "language_info": {
   "codemirror_mode": {
    "name": "ipython",
    "version": 2
   },
   "file_extension": ".py",
   "mimetype": "text/x-python",
   "name": "python",
   "nbconvert_exporter": "python",
   "pygments_lexer": "ipython2",
   "version": "2.7.3"
  }
 },
 "nbformat": 4,
 "nbformat_minor": 0
}
