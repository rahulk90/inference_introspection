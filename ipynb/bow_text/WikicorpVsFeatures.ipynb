{
 "cells": [
  {
   "cell_type": "code",
   "execution_count": 1,
   "metadata": {},
   "outputs": [
    {
     "name": "stdout",
     "output_type": "stream",
     "text": [
      "Loading linear matrices\n",
      "Loading linear matrices\n",
      "Dataset: wikicorp\n",
      "Read  3  objects\n"
     ]
    }
   ],
   "source": [
    "#Visualize Samples from the model\n",
    "import sys,os,glob\n",
    "sys.path.append('../../')\n",
    "import numpy as np\n",
    "%matplotlib inline\n",
    "import matplotlib.pyplot as plt\n",
    "import matplotlib as mpl\n",
    "mpl.rcParams['lines.linewidth']=5\n",
    "mpl.rcParams['lines.markersize']=10\n",
    "mpl.rcParams['text.latex.unicode']=True\n",
    "mpl.rcParams['text.usetex']=True\n",
    "mpl.rcParams['font.family'] = 'serif' \n",
    "mpl.rcParams['font.serif'] = 'Times New Roman'\n",
    "mpl.rcParams['text.latex.preamble']= ['\\\\usepackage{amsfonts}','\\\\usepackage{amsmath}']\n",
    "mpl.rcParams['font.size'] = 40\n",
    "mpl.rcParams['axes.labelsize']=40\n",
    "mpl.rcParams['legend.fontsize']=40\n",
    "#http://stackoverflow.com/questions/22408237/named-colors-in-matplotlib\n",
    "from utils.misc import getConfigFile, readPickle, loadHDF5, getUniqueIDFromParams\n",
    "from optvaeutils.viz import getName\n",
    "\n",
    "DIR      = '../../expt/chkpt-wikicorp';\n",
    "MAXEPOCH = '50'\n",
    "numfeats = ['_1000','_5000','_10000','']\n",
    "otypes   = ['none','finopt']\n",
    "\n",
    "short_names = {}\n",
    "if os.path.exists('../../optvaeutils/default-hmap.pkl'):\n",
    "    short_names = readPickle('../../optvaeutils/default-hmap.pkl')[0]\n",
    "colors = {}\n",
    "colors[0] = 'r'\n",
    "colors[1] = 'b'\n",
    "colors[2] = 'g'\n",
    "colors[3] = 'k'\n",
    "colors[4] = 'y'\n",
    "colors[5] = 'k'\n",
    "colors[6] = 'm'\n",
    "colors[7] = 'c'\n",
    "colors[8] = 'b'\n",
    "\n",
    "markers = {}\n",
    "markers[0]= '*'\n",
    "markers[1]= '<'\n",
    "markers[2]= '>'\n",
    "markers[3]= '8'\n",
    "markers[4]= 'p'\n",
    "markers[5]= 'v'\n",
    "markers[6]= '3'\n",
    "markers[7]= '2'\n",
    "markers[8]= '4'\n",
    "\n",
    "#Evalaute POB \n",
    "from datasets.load import loadDataset\n",
    "from optvaedatasets.load import loadDataset as loadDataset_OVAE\n",
    "dataset        =DIR.split('chkpt-')[1]\n",
    "print 'Dataset:', dataset\n",
    "dset = loadDataset_OVAE(dataset)"
   ]
  },
  {
   "cell_type": "code",
   "execution_count": 2,
   "metadata": {},
   "outputs": [
    {
     "name": "stdout",
     "output_type": "stream",
     "text": [
      "Read  1  objects\n",
      "baseline0\n",
      "1000 none 302.870675133 289.591739706\n",
      "288.173552089\n",
      "Read  1  objects\n",
      "fin1000\n",
      "1000 finopt 299.345819299 275.46578753\n",
      "273.67834278\n",
      "Read  1  objects\n",
      "baseline0\n",
      "5000 none 837.002384559 786.204869762\n",
      "774.412562508\n",
      "Read  1  objects\n",
      "fin1000\n",
      "5000 finopt 794.640207551 713.994501902\n",
      "702.724079186\n",
      "Read  1  objects\n",
      "baseline0\n",
      "10000 none 1159.10712011 1072.68255847\n",
      "1046.83925145\n",
      "Read  1  objects\n",
      "fin1000\n",
      "10000 finopt 1073.99289771 949.805815148\n",
      "925.015912045\n",
      "Read  1  objects\n",
      "Read  1  objects\n",
      "baseline0\n",
      "20000 none 1477.2710467 1339.22622251\n",
      "1277.70146691\n",
      "Read  1  objects\n",
      "Read  1  objects\n",
      "Read  1  objects\n",
      "Read  1  objects\n",
      "fin1000\n",
      "20000 finopt 1387.93840148 1191.3619986\n",
      "1135.31371966\n",
      "Read  1  objects\n",
      "Read  1  objects\n",
      "fin1000\n",
      "20000 finopt 1362.68343003 1175.70214735\n",
      "1122.49518258\n"
     ]
    }
   ],
   "source": [
    "#Visualize Training Curves (train/valid/test) across different \n",
    "datalist, l_params, namelist, svallist = [],[],[],[]\n",
    "ctr = 0\n",
    "\n",
    "results = {}\n",
    "results_train = {}\n",
    "for nfeat in numfeats:\n",
    "    if len(nfeat)==0:\n",
    "        N = str(dset['train'].shape[1])\n",
    "    else:\n",
    "        N = str(nfeat[1:])\n",
    "    results[N] = {}\n",
    "    results_train[N] = {}\n",
    "    for otype in otypes:\n",
    "        NEWDIR = DIR+nfeat+'-'+otype+'/'\n",
    "        for f in glob.glob(NEWDIR+'*EP'+MAXEPOCH+'*.h5'):\n",
    "            params = readPickle(getConfigFile(f))[0]\n",
    "            if 'pl-0' in f or params['anneal_rate']>100:\n",
    "                continue\n",
    "            params['replicate_K'] = None\n",
    "            name   = getName(params)\n",
    "            print name+str(params['anneal_rate'])\n",
    "            data   = loadHDF5(f)\n",
    "            l_params.append(params)\n",
    "            datalist.append(data)\n",
    "            namelist.append(name)\n",
    "            assert 'valid_perp_0' in data,'recheck'\n",
    "            min_0 = np.min(data['valid_perp_0'][:,1])\n",
    "            min_f = np.min(data['valid_perp_f'][:,1])\n",
    "            amin  = np.argmin(data['valid_perp_f'][:,1])\n",
    "            epmin = data['valid_perp_f'][amin,0]\n",
    "            print N,otype,min_0,min_f\n",
    "            results[N][otype] = min_f\n",
    "            Y = data['train_perp_f'][:,1]\n",
    "            Y = Y[~np.isnan(Y)]\n",
    "            min_f = np.min(Y)\n",
    "            print min_f\n",
    "            results_train[N][otype] = min_f"
   ]
  },
  {
   "cell_type": "code",
   "execution_count": 3,
   "metadata": {
    "collapsed": true
   },
   "outputs": [],
   "source": [
    "diff_valid = 1\n",
    "bar_names_label=[]\n",
    "bar_names  = []\n",
    "for nfeat in numfeats:\n",
    "    if len(nfeat)==0:\n",
    "        N = dset['train'].shape[1]\n",
    "    else:\n",
    "        N = int(nfeat[1:])\n",
    "    bar_names.append(str(N))\n",
    "    bar_names_label.append(str(N/1000)+'k')"
   ]
  },
  {
   "cell_type": "code",
   "execution_count": 8,
   "metadata": {},
   "outputs": [
    {
     "name": "stdout",
     "output_type": "stream",
     "text": [
      "[0 1 2 3] [0.050300276356339178, 0.092571436457118184, 0.11637253688809426, 0.12147304229367094]\n",
      "[0.048778850496256382, 0.091846757299509363, 0.11455089145540569, 0.1221034000219508]\n"
     ]
    },
    {
     "data": {
      "image/png": "[encoded data removed]",
      "text/plain": [
       "<matplotlib.figure.Figure at 0x7f1c37476290>"
      ]
     },
     "metadata": {},
     "output_type": "display_data"
    }
   ],
   "source": [
    "diff      = [(results[N]['none']-results[N]['finopt'])/(results[N]['none']) for N in bar_names]\n",
    "diff_train  = [(results_train[N]['none']-results_train[N]['finopt'])/(results_train[N]['none']) for N in bar_names]\n",
    "n_groups  = len(diff)\n",
    "#fig, ax = plt.subplots(figsize=(20,22))\n",
    "fig, ax = plt.subplots(figsize=(8,6))\n",
    "\n",
    "index = np.arange(n_groups)\n",
    "bar_width = 0.2\n",
    "\n",
    "error_config = {'ecolor': '0.3'}\n",
    "\n",
    "rects1 = plt.bar(index+0.15, diff, bar_width,\n",
    "                 color='firebrick',\n",
    "                 error_kw=error_config,\n",
    "                 label='Held-out', hatch='*')\n",
    "\n",
    "print index, diff_train\n",
    "print diff\n",
    "rects1 = plt.bar(index-0.15, diff_train, bar_width,\n",
    "                 color='forestgreen',\n",
    "                 error_kw=error_config,\n",
    "                 label='Train', hatch='\\\\')\n",
    "\n",
    "plt.xlabel('Restrictions to top $L$ words',fontsize=40)\n",
    "plt.ylabel('Drop in Perplexity\\n from training with $\\\\psi^*$',fontsize=40)#: $\\\\frac{P[\\\\psi(x)]-P [\\\\psi_{\\\\text{opt}}]}{P[\\\\psi(x)]}$',\n",
    "          #)#, y=1.)\n",
    "plt.xticks(index , bar_names_label,fontsize=35)\n",
    "plt.legend(loc='upper center', bbox_to_anchor=(0.25, 1.03),fontsize=35,frameon=True, prop={'size': 30})\n",
    "plt.yticks(np.arange(0,0.15,0.02),fontsize=35)\n",
    "fname = 'wikicorp_features.pdf'\n",
    "plt.savefig(fname, bbox_inches='tight')"
   ]
  },
  {
   "cell_type": "code",
   "execution_count": null,
   "metadata": {
    "collapsed": true
   },
   "outputs": [],
   "source": []
  }
 ],
 "metadata": {
  "kernelspec": {
   "display_name": "Python 2",
   "language": "python",
   "name": "python2"
  },
  "language_info": {
   "codemirror_mode": {
    "name": "ipython",
    "version": 2
   },
   "file_extension": ".py",
   "mimetype": "text/x-python",
   "name": "python",
   "nbconvert_exporter": "python",
   "pygments_lexer": "ipython2",
   "version": "2.7.12"
  }
 },
 "nbformat": 4,
 "nbformat_minor": 1
}
