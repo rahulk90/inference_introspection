{
 "cells": [
  {
   "cell_type": "code",
   "execution_count": null,
   "metadata": {
    "collapsed": false
   },
   "outputs": [],
   "source": [
    "#Visualize Samples from the model\n",
    "import sys,os,glob\n",
    "sys.path.append('../../')\n",
    "import numpy as np\n",
    "%matplotlib inline\n",
    "import matplotlib.pyplot as plt\n",
    "import matplotlib as mpl\n",
    "mpl.rcParams['lines.linewidth']=2.5\n",
    "mpl.rcParams['lines.markersize']=8\n",
    "mpl.rcParams['text.latex.unicode']=True\n",
    "mpl.rcParams['font.family'] = 'serif' \n",
    "mpl.rcParams['font.serif'] = 'Times New Roman'\n",
    "mpl.rcParams['text.latex.preamble']= ['\\\\usepackage{amsfonts}','\\\\usepackage{amsmath}']\n",
    "mpl.rcParams['font.size'] = 25\n",
    "mpl.rcParams['axes.labelsize']=25\n",
    "mpl.rcParams['legend.fontsize']=25\n",
    "#http://stackoverflow.com/questions/22408237/named-colors-in-matplotlib\n",
    "from utils.misc import getConfigFile, readPickle, loadHDF5, getUniqueIDFromParams\n",
    "from optvaeutils.viz import getName\n",
    "\n",
    "DIR      = '../../expt/results_dec19/chkpt-wikicorp';\n",
    "MAXEPOCH = '20'\n",
    "numfeats = ['_1000','_5000','_10000','']\n",
    "otypes   = ['none','finopt']\n",
    "\n",
    "short_names = {}\n",
    "if os.path.exists('../../optvaeutils/default-hmap.pkl'):\n",
    "    short_names = readPickle('../../optvaeutils/default-hmap.pkl')[0]\n",
    "colors = {}\n",
    "colors[0] = 'r'\n",
    "colors[1] = 'b'\n",
    "colors[2] = 'g'\n",
    "colors[3] = 'k'\n",
    "colors[4] = 'y'\n",
    "colors[5] = 'k'\n",
    "colors[6] = 'm'\n",
    "colors[7] = 'c'\n",
    "colors[8] = 'b'\n",
    "\n",
    "markers = {}\n",
    "markers[0]= '*'\n",
    "markers[1]= '<'\n",
    "markers[2]= '>'\n",
    "markers[3]= '8'\n",
    "markers[4]= 'p'\n",
    "markers[5]= 'v'\n",
    "markers[6]= '3'\n",
    "markers[7]= '2'\n",
    "markers[8]= '4'\n",
    "\n",
    "#Evalaute POB \n",
    "from datasets.load import loadDataset\n",
    "from optvaedatasets.load import loadDataset as loadDataset_OVAE\n",
    "dataset        =DIR.split('chkpt-')[1]\n",
    "print 'Dataset:', dataset\n",
    "dset = loadDataset_OVAE(dataset)"
   ]
  },
  {
   "cell_type": "code",
   "execution_count": null,
   "metadata": {
    "collapsed": false
   },
   "outputs": [],
   "source": [
    "#Visualize Training Curves (train/valid/test) across different \n",
    "datalist, l_params, namelist, svallist = [],[],[],[]\n",
    "ctr = 0\n",
    "\n",
    "results = {}\n",
    "for nfeat in numfeats:\n",
    "    if len(nfeat)==0:\n",
    "        N = str(dset['train'].shape[1])\n",
    "    else:\n",
    "        N = str(nfeat[1:])\n",
    "    results[N] = {}\n",
    "    for otype in otypes:\n",
    "        NEWDIR = DIR+nfeat+'-'+otype+'/'\n",
    "        for f in glob.glob(NEWDIR+'*EP'+MAXEPOCH+'*.h5'):\n",
    "            if 'pl-0' in f:\n",
    "                continue\n",
    "            params = readPickle(getConfigFile(f))[0]\n",
    "            name   = getName(params)\n",
    "            data   = loadHDF5(f)\n",
    "            l_params.append(params)\n",
    "            datalist.append(data)\n",
    "            namelist.append(name)\n",
    "            assert 'valid_perp_0' in data,'recheck'\n",
    "            min_0 = np.min(data['valid_perp_0'][:,1])\n",
    "            min_f = np.min(data['valid_perp_f'][:,1])\n",
    "            amin  = np.argmin(data['valid_perp_f'][:,1])\n",
    "            epmin = data['valid_perp_f'][amin,0]\n",
    "            print N,otype,min_0,min_f\n",
    "            results[N][otype] = min_f"
   ]
  },
  {
   "cell_type": "code",
   "execution_count": null,
   "metadata": {
    "collapsed": false
   },
   "outputs": [],
   "source": [
    "diff_valid = 1\n",
    "\n",
    "bar_names  = []\n",
    "for nfeat in numfeats:\n",
    "    if len(nfeat)==0:\n",
    "        N = dset['train'].shape[1]\n",
    "    else:\n",
    "        N = int(nfeat[1:])\n",
    "    bar_names.append(str(N))"
   ]
  },
  {
   "cell_type": "code",
   "execution_count": null,
   "metadata": {
    "collapsed": false
   },
   "outputs": [],
   "source": [
    "diff      = [(results[N]['none']-results[N]['finopt'])/(results[N]['none']) for N in bar_names]\n",
    "n_groups  = len(diff)\n",
    "fig, ax = plt.subplots(figsize=(6,6))\n",
    "\n",
    "index = np.arange(n_groups)\n",
    "bar_width = 0.35\n",
    "\n",
    "error_config = {'ecolor': '0.3'}\n",
    "\n",
    "rects1 = plt.bar(index, diff, bar_width,\n",
    "                 color='g',\n",
    "                 error_kw=error_config,\n",
    "                 label='$\\\\frac{P_{M1}-P_{M100}}{P_{M1}}$')\n",
    "\n",
    "plt.xlabel('Sorted Number of Features')\n",
    "plt.ylabel('Decrease in Perplexity')\n",
    "plt.xticks(index + bar_width/2, bar_names, rotation='vertical')\n",
    "plt.legend(loc='upper center', bbox_to_anchor=(0.5, 1.3),frameon=False)\n",
    "\n",
    "fname = 'wikicorp_features.pdf'\n",
    "plt.savefig(fname, bbox_inches='tight')"
   ]
  },
  {
   "cell_type": "code",
   "execution_count": null,
   "metadata": {
    "collapsed": true
   },
   "outputs": [],
   "source": []
  }
 ],
 "metadata": {
  "kernelspec": {
   "display_name": "Python 2",
   "language": "python",
   "name": "python2"
  },
  "language_info": {
   "codemirror_mode": {
    "name": "ipython",
    "version": 2
   },
   "file_extension": ".py",
   "mimetype": "text/x-python",
   "name": "python",
   "nbconvert_exporter": "python",
   "pygments_lexer": "ipython2",
   "version": "2.7.3"
  }
 },
 "nbformat": 4,
 "nbformat_minor": 0
}
