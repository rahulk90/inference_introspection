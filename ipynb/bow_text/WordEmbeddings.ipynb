{
 "cells": [
  {
   "cell_type": "code",
   "execution_count": 1,
   "metadata": {
    "collapsed": false
   },
   "outputs": [],
   "source": [
    "#Visualize the word embeddings we need\n",
    "#Debugging finopt\n",
    "#Visualize Samples from the model\n",
    "import sys,os,glob\n",
    "sys.path.append('../../')\n",
    "import numpy as np\n",
    "%matplotlib inline\n",
    "import operator\n",
    "from sklearn.metrics.pairwise import pairwise_distances\n",
    "from sklearn import cluster\n",
    "from collections import OrderedDict\n",
    "import matplotlib.pyplot as plt\n",
    "import matplotlib as mpl\n",
    "mpl.rcParams['lines.linewidth']=2.5\n",
    "mpl.rcParams['lines.markersize']=8\n",
    "#mpl.rcParams['text.usetex']=True\n",
    "mpl.rcParams['text.latex.unicode']=True\n",
    "mpl.rcParams['font.family'] = 'serif'\n",
    "mpl.rcParams['font.serif'] = 'Times New Roman'\n",
    "mpl.rcParams['text.latex.preamble']= ['\\\\usepackage{amsfonts}','\\\\usepackage{amsmath}']\n",
    "mpl.rcParams['font.size'] = 20\n",
    "mpl.rcParams['axes.labelsize']=20\n",
    "mpl.rcParams['legend.fontsize']=20\n",
    "\n",
    "from matplotlib import markers\n",
    "from matplotlib import colors\n",
    "clist = colors.cnames.keys()\n",
    "mlist = markers.MarkerStyle().markers.keys()\n",
    "\n",
    "#http://stackoverflow.com/questions/22408237/named-colors-in-matplotlib\n",
    "from utils.misc import getConfigFile, readPickle, loadHDF5, createIfAbsent, saveHDF5\n",
    "from optvaeutils.viz import getName\n",
    "from sklearn.feature_extraction.text import TfidfTransformer\n",
    "result   = {}"
   ]
  },
  {
   "cell_type": "code",
   "execution_count": 2,
   "metadata": {
    "collapsed": false
   },
   "outputs": [
    {
     "name": "stdout",
     "output_type": "stream",
     "text": [
      "[u'ejacob', u'ejacob_probs', u'ejacob_energy']\n"
     ]
    }
   ],
   "source": [
    "data = loadHDF5('../../expt/evalWikicorp/pl-2-finopt-ejacob.h5')\n",
    "print data.keys()"
   ]
  },
  {
   "cell_type": "code",
   "execution_count": 3,
   "metadata": {
    "collapsed": false
   },
   "outputs": [
    {
     "name": "stdout",
     "output_type": "stream",
     "text": [
      "Loading linear matrices\n",
      "Loading linear matrices\n",
      "Read  3  objects\n",
      "['mapIdx', 'data_type', 'dim_observations', 'train', 'vocabulary_singular', 'test', 'vocabulary', 'valid']\n"
     ]
    }
   ],
   "source": [
    "from datasets.load import loadDataset\n",
    "import sys\n",
    "sys.path.append('../../')\n",
    "from optvaedatasets.load import loadDataset\n",
    "DATA = 'wikicorp'\n",
    "\n",
    "dataset = loadDataset(DATA)\n",
    "print dataset.keys()\n",
    "additional_attrs        = {}\n",
    "tfidf                   = TfidfTransformer(norm=None)\n",
    "tfidf.fit(dataset['train'])\n",
    "#Get normalized idf vectors\n",
    "additional_attrs['idf'] = tfidf.idf_"
   ]
  },
  {
   "cell_type": "code",
   "execution_count": 4,
   "metadata": {
    "collapsed": false
   },
   "outputs": [],
   "source": [
    "from optvaemodels.evaluate_vecs import clusterEmbeddings, evaluateWordVectors,getWordSimilarity\n",
    "from optvaemodels.evaluate_vecs import expectedJacobian, conditionalJacobian"
   ]
  },
  {
   "cell_type": "code",
   "execution_count": 5,
   "metadata": {
    "collapsed": false,
    "scrolled": true
   },
   "outputs": [],
   "source": [
    "wordlist = ['artificial',\n",
    "                  'intelligence',\n",
    "                  'betterment',\n",
    "                   'military',\n",
    "                  'book',\n",
    "                  'medicine',\n",
    "                  'zen']"
   ]
  },
  {
   "cell_type": "code",
   "execution_count": 6,
   "metadata": {
    "collapsed": false
   },
   "outputs": [
    {
     "name": "stdout",
     "output_type": "stream",
     "text": [
      "['intelligence', 'zen', 'artificial', 'book', 'medicine', 'military']\n",
      "intelligence : intelligence,espionage,colleagues,cia,directing,covert,interrogation \n",
      "\n",
      "zen : zen,dharma,buddhism,meditation,buddha,buddhist,karma \n",
      "\n",
      "artificial : artificial,artificially,solids,molecule,gravitational,evaporation,observable \n",
      "\n",
      "book : book,books,author,republished,written,paperback,reprinted \n",
      "\n",
      "medicine : medicine,physicians,physician,medical,pathology,medicines,vascular \n",
      "\n",
      "military : military,civilian,infantry,commanders,army,armys,forces \n",
      "\n"
     ]
    }
   ],
   "source": [
    "word_similarity=  getWordSimilarity(data['ejacob'], wordlist, dataset['vocabulary'],metric='cosine')\n",
    "print word_similarity.keys()\n",
    "for w in word_similarity:\n",
    "    print w,':',','.join(word_similarity[w]),'\\n'"
   ]
  },
  {
   "cell_type": "code",
   "execution_count": 7,
   "metadata": {
    "collapsed": false
   },
   "outputs": [
    {
     "name": "stdout",
     "output_type": "stream",
     "text": [
      "['fires', 'burn', 'jacob', 'pl', '2', 'finopt']\n",
      "Word:  fires  Context:  burn\n",
      "fires : fires,roofs,ground,indoors,fuel,disperse,firefighters \n",
      "\n",
      "['crane', 'construction', 'jacob', 'pl', '2', 'finopt']\n",
      "Word:  crane  Context:  construction\n",
      "crane : crane,cranes,metallic,separated,embankment,semi,ground \n",
      "\n",
      "['bank', 'river', 'jacob', 'pl', '2', 'finopt']\n",
      "Word:  bank  Context:  river\n",
      "bank : bank,banks,settlement,communes,main,vineyards,dumping \n",
      "\n",
      "['bar', 'lawyer', 'jacob', 'pl', '2', 'finopt']\n",
      "Word:  bar  Context:  lawyer\n",
      "bar : bar,counsel,law,court,district,justices,admitted \n",
      "\n",
      "['crane', 'bird', 'jacob', 'pl', '2', 'finopt']\n",
      "Word:  crane  Context:  bird\n",
      "crane : crane,wetlands,tina,creek,lauderdale,river,frequented \n",
      "\n",
      "['bar', 'pub', 'jacob', 'pl', '2', 'finopt']\n",
      "Word:  bar  Context:  pub\n",
      "bar : bar,bars,pub,located,situated,centre,refurbished \n",
      "\n",
      "['park', 'car', 'jacob', 'pl', '2', 'finopt']\n",
      "Word:  park  Context:  car\n",
      "park : park,suburb,parks,located,tourist,racecourse,venue \n",
      "\n",
      "['bank', 'money', 'jacob', 'pl', '2', 'finopt']\n",
      "Word:  bank  Context:  money\n",
      "bank : bank,banks,transactions,loan,obligation,nominee,savings \n",
      "\n",
      "['court', 'tennis', 'jacob', 'pl', '2', 'finopt']\n",
      "Word:  court  Context:  tennis\n",
      "court : court,courts,plaintiff,til,juvenile,justice,dessert \n",
      "\n",
      "['court', 'lawyer', 'jacob', 'pl', '2', 'finopt']\n",
      "Word:  court  Context:  lawyer\n",
      "court : court,supreme,justices,magistrates,judicial,constitution,held \n",
      "\n",
      "['park', 'forest', 'jacob', 'pl', '2', 'finopt']\n",
      "Word:  park  Context:  forest\n",
      "park : park,footpath,entrance,parks,nearby,boasts,situated \n",
      "\n",
      "['fires', 'layoff', 'jacob', 'pl', '2', 'finopt']\n",
      "Word:  fires  Context:  layoff\n",
      "fires : fires,ropes,evacuate,rubble,arteries,charcoal,vegetation \n",
      "\n"
     ]
    }
   ],
   "source": [
    "TYPE = 'pl-2-finopt'\n",
    "for f in glob.glob('../../expt/evalWikicorp-conditional/*'+TYPE+'.h5'):\n",
    "    words= os.path.basename(f).replace('.h5','').split('-')\n",
    "    print words\n",
    "    print 'Word: ',words[0], ' Context: ',words[1]\n",
    "    if words[0]=='fire':\n",
    "        words[0] = 'fires'\n",
    "    if words[0] not in dataset['vocabulary']:\n",
    "        continue\n",
    "    data2 = loadHDF5(f)\n",
    "    res  = getWordSimilarity(data2['cjacob_energy'], [words[0]], dataset['vocabulary'] ,'cosine')\n",
    "    print words[0],':',','.join(res[words[0]]),'\\n'"
   ]
  },
  {
   "cell_type": "code",
   "execution_count": null,
   "metadata": {
    "collapsed": false
   },
   "outputs": [],
   "source": [
    "from sklearn.decomposition import PCA\n",
    "pca = PCA(n_components=5)\n",
    "X_reduced = pca.fit_transform(data['ejacob_energy'])\n",
    "print X_reduced.shape,pca.components_.shape"
   ]
  },
  {
   "cell_type": "code",
   "execution_count": 8,
   "metadata": {
    "collapsed": false
   },
   "outputs": [
    {
     "name": "stdout",
     "output_type": "stream",
     "text": [
      "pl-2-finopt\n",
      "pl-0-finopt\n",
      "pl-0-none\n",
      "pl-2-none\n"
     ]
    }
   ],
   "source": [
    "singular_vals = {}\n",
    "singular_vals_prob = {}\n",
    "singular_vals_pot = {}\n",
    "for f in glob.glob('../../expt/evalWikicorp/*-ejacob.h5'):\n",
    "    dd     = loadHDF5(f) \n",
    "    name =  os.path.basename(f).split('-eja')[0]\n",
    "    ejacob = dd['ejacob']\n",
    "    _,s,_  = np.linalg.svd(ejacob)\n",
    "    singular_vals[name] = s\n",
    "    #ejacob = dd['ejacob_probs']\n",
    "    #_,s,_  = np.linalg.svd(ejacob)\n",
    "    #singular_vals_prob[name] = s\n",
    "    #ejacob = dd['ejacob_energy']\n",
    "    #_,s,_  = np.linalg.svd(ejacob)\n",
    "    #singular_vals_pot[name] = s\n",
    "    print name"
   ]
  },
  {
   "cell_type": "code",
   "execution_count": 9,
   "metadata": {
    "collapsed": false
   },
   "outputs": [
    {
     "name": "stdout",
     "output_type": "stream",
     "text": [
      "logsingular-jacob-wikicorp.pdf saved\n"
     ]
    },
    {
     "name": "stderr",
     "output_type": "stream",
     "text": [
      "/usr/local/pkg/python/2.7/lib/python2.7/site-packages/matplotlib/font_manager.py:1236: UserWarning: findfont: Font family ['serif'] not found. Falling back to Bitstream Vera Sans\n",
      "  (prop.get_family(), self.defaultFamily[fontext]))\n"
     ]
    },
    {
     "data": {
      "image/png": "[encoded data removed]",
      "text/plain": [
       "<matplotlib.figure.Figure at 0x6719410>"
      ]
     },
     "metadata": {},
     "output_type": "display_data"
    }
   ],
   "source": [
    "colorFinal = {}\n",
    "colorFinal['1-M1']    = 'r'\n",
    "colorFinal['1-M100']  = 'b'\n",
    "colorFinal['3-M1']    =  'g'\n",
    "colorFinal['3-M100']  =  'k'\n",
    "markerFinal = {}\n",
    "markerFinal['1-M1']   = 'p'\n",
    "markerFinal['1-M100'] = 'd'\n",
    "markerFinal['3-M1']   =  '<'\n",
    "markerFinal['3-M100'] =  '*'\n",
    "\n",
    "namemap= {}\n",
    "namemap['pl-0-none'] = '1-M1'\n",
    "namemap['pl-0-finopt'] = '1-M100'\n",
    "namemap['pl-2-none'] = '3-M1'\n",
    "namemap['pl-2-finopt'] = '3-M100'\n",
    "plt.plot(figsize=(16,20))\n",
    "for k in singular_vals:\n",
    "    name = namemap[k]\n",
    "    MARKER = markerFinal[name]\n",
    "    COLOR  = colorFinal[name]\n",
    "    plt.plot(np.sort(np.log(singular_vals[k]))[::-1],color=COLOR,label=name)\n",
    "plt.legend(loc='upper center', bbox_to_anchor=(0.5, 1.4),ncol=2, frameon=False)\n",
    "plt.ylabel('Log\\n Singular Values of $\\mathcal{J}^{log}_{mean}$')\n",
    "plt.xlabel('Number of singular values')\n",
    "fname = 'logsingular-jacob-wikicorp.pdf'\n",
    "print fname,'saved'\n",
    "#plt.savefig(fname,bbox_inches='tight')"
   ]
  },
  {
   "cell_type": "code",
   "execution_count": null,
   "metadata": {
    "collapsed": false
   },
   "outputs": [],
   "source": [
    "rcv2_singular_vals = {}\n",
    "rcv2_singular_vals_prob = {}\n",
    "rcv2_singular_vals_pot = {}\n",
    "for f in glob.glob('../../expt/evalRCV2/*-ejacob.h5'):\n",
    "    dd     = loadHDF5(f) \n",
    "    name =  os.path.basename(f).split('-eja')[0]\n",
    "    ejacob = dd['ejacob']\n",
    "    _,s,_  = np.linalg.svd(ejacob)\n",
    "    rcv2_singular_vals[name] = s\n",
    "    ejacob = dd['ejacob_probs']\n",
    "    _,s,_  = np.linalg.svd(ejacob)\n",
    "    rcv2_singular_vals_prob[name] = s\n",
    "    ejacob = dd['ejacob_energy']\n",
    "    _,s,_  = np.linalg.svd(ejacob)\n",
    "    rcv2_singular_vals_pot[name] = s\n",
    "    print name"
   ]
  },
  {
   "cell_type": "code",
   "execution_count": null,
   "metadata": {
    "collapsed": false
   },
   "outputs": [],
   "source": [
    "\n",
    "colorFinal = {}\n",
    "colorFinal['1-M1']    = 'r'\n",
    "colorFinal['1-M100']  = 'b'\n",
    "colorFinal['3-M1']    =  'g'\n",
    "colorFinal['3-M100']  =  'k'\n",
    "markerFinal = {}\n",
    "markerFinal['1-M1']   = 'p'\n",
    "markerFinal['1-M100'] = 'd'\n",
    "markerFinal['3-M1']   =  '<'\n",
    "markerFinal['3-M100'] =  '*'\n",
    "\n",
    "namemap= {}\n",
    "namemap['pl-0-none'] = '1-M1'\n",
    "namemap['pl-0-finopt'] = '1-M100'\n",
    "namemap['pl-2-none'] = '3-M1'\n",
    "namemap['pl-2-finopt'] = '3-M100'\n",
    "plt.plot(figsize=(8,10))\n",
    "for k in rcv2_singular_vals:\n",
    "    name = namemap[k]\n",
    "    MARKER = markerFinal[name]\n",
    "    COLOR  = colorFinal[name]\n",
    "    plt.plot(np.sort(np.log(rcv2_singular_vals[k]))[::-1],color=COLOR,label=name)\n",
    "plt.legend(loc='upper center', bbox_to_anchor=(0.5, 1.4),ncol=2, frameon=False)\n",
    "plt.ylabel('Log\\n Singular Values of $\\mathcal{J}^{log}_{mean}$')\n",
    "plt.xlabel('Number of singular values')\n",
    "fname = 'logsingular-jacob-rcv2_miao.pdf'\n",
    "print fname,'saved'\n",
    "plt.savefig(fname,bbox_inches='tight')"
   ]
  }
 ],
 "metadata": {
  "kernelspec": {
   "display_name": "Python 2",
   "language": "python",
   "name": "python2"
  },
  "language_info": {
   "codemirror_mode": {
    "name": "ipython",
    "version": 2
   },
   "file_extension": ".py",
   "mimetype": "text/x-python",
   "name": "python",
   "nbconvert_exporter": "python",
   "pygments_lexer": "ipython2",
   "version": "2.7.3"
  }
 },
 "nbformat": 4,
 "nbformat_minor": 0
}
