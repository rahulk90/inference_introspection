{
 "cells": [
  {
   "cell_type": "code",
   "execution_count": 1,
   "metadata": {
    "collapsed": true
   },
   "outputs": [],
   "source": [
    "#Visualize the word embeddings we need\n",
    "#Debugging finopt\n",
    "#Visualize Samples from the model\n",
    "import sys,os,glob\n",
    "sys.path.append('../../')\n",
    "import numpy as np\n",
    "%matplotlib inline\n",
    "import operator\n",
    "from sklearn.metrics.pairwise import pairwise_distances\n",
    "from sklearn import cluster\n",
    "from collections import OrderedDict\n",
    "import matplotlib.pyplot as plt\n",
    "import matplotlib as mpl\n",
    "mpl.rcParams['lines.linewidth']=2.5\n",
    "mpl.rcParams['lines.markersize']=8\n",
    "#mpl.rcParams['text.usetex']=True\n",
    "mpl.rcParams['text.latex.unicode']=True\n",
    "mpl.rcParams['font.family'] = 'serif'\n",
    "mpl.rcParams['font.serif'] = 'Times New Roman'\n",
    "mpl.rcParams['text.latex.preamble']= ['\\\\usepackage{amsfonts}','\\\\usepackage{amsmath}']\n",
    "mpl.rcParams['font.size'] = 20\n",
    "mpl.rcParams['axes.labelsize']=20\n",
    "mpl.rcParams['legend.fontsize']=20\n",
    "\n",
    "from matplotlib import markers\n",
    "from matplotlib import colors\n",
    "clist = colors.cnames.keys()\n",
    "mlist = markers.MarkerStyle().markers.keys()\n",
    "\n",
    "#http://stackoverflow.com/questions/22408237/named-colors-in-matplotlib\n",
    "from utils.misc import getConfigFile, readPickle, loadHDF5, createIfAbsent, saveHDF5\n",
    "from optvaeutils.viz import getName,stitchMNISTSamples\n",
    "from sklearn.feature_extraction.text import TfidfTransformer\n",
    "result   = {}"
   ]
  },
  {
   "cell_type": "code",
   "execution_count": 45,
   "metadata": {
    "collapsed": false
   },
   "outputs": [
    {
     "name": "stdout",
     "output_type": "stream",
     "text": [
      "[u'ejacob', u'ejacob_probs', u'ejacob_energy']\n"
     ]
    }
   ],
   "source": [
    "data = loadHDF5('../../expt/evalWikicorp-exponly/pl-2-finopt-ejacob.h5')\n",
    "print data.keys()"
   ]
  },
  {
   "cell_type": "code",
   "execution_count": 44,
   "metadata": {
    "collapsed": false
   },
   "outputs": [
    {
     "name": "stdout",
     "output_type": "stream",
     "text": [
      "['mapIdx', 'data_type', 'dim_observations', 'train', 'vocabulary_singular', 'test', 'vocabulary', 'valid']\n"
     ]
    }
   ],
   "source": [
    "from datasets.load import loadDataset\n",
    "import sys\n",
    "sys.path.append('../../')\n",
    "from optvaedatasets.load import loadDataset\n",
    "DATA = 'wikicorp'\n",
    "\n",
    "dataset = loadDataset(DATA)\n",
    "print dataset.keys()\n",
    "additional_attrs        = {}\n",
    "tfidf                   = TfidfTransformer(norm=None)\n",
    "tfidf.fit(dataset['train'])\n",
    "#Get normalized idf vectors\n",
    "additional_attrs['idf'] = tfidf.idf_"
   ]
  },
  {
   "cell_type": "code",
   "execution_count": 5,
   "metadata": {
    "collapsed": false
   },
   "outputs": [],
   "source": [
    "from optvaemodels.evaluate_vecs import clusterEmbeddings, evaluateWordVectors,getWordSimilarity\n",
    "from optvaemodels.evaluate_vecs import expectedJacobian, conditionalJacobian"
   ]
  },
  {
   "cell_type": "code",
   "execution_count": 82,
   "metadata": {
    "collapsed": false
   },
   "outputs": [
    {
     "name": "stdout",
     "output_type": "stream",
     "text": [
      "[u'ejacob', u'ejacob_probs', u'ejacob_energy']\n"
     ]
    }
   ],
   "source": [
    "vocab = dataset['vocabulary']\n",
    "print data.keys()"
   ]
  },
  {
   "cell_type": "code",
   "execution_count": 54,
   "metadata": {
    "collapsed": false,
    "scrolled": true
   },
   "outputs": [],
   "source": [
    "wordlist = ['artificial',\n",
    "                  'intelligence',\n",
    "                  'betterment',\n",
    "                   'military',\n",
    "                  'book',\n",
    "                  'medicine',\n",
    "                  'zen']"
   ]
  },
  {
   "cell_type": "code",
   "execution_count": 55,
   "metadata": {
    "collapsed": false
   },
   "outputs": [
    {
     "name": "stdout",
     "output_type": "stream",
     "text": [
      "intelligence : intelligence,espionage,secrecy,interrogation,counterterrorism,roles,plotting \n",
      "\n",
      "zen : zen,dharma,buddhism,buddhas,buddha,meditation,yoga \n",
      "\n",
      "artificial : artificial,artificially,molecules,synthetic,soluble,cells,molecule \n",
      "\n",
      "book : book,author,books,reprinted,republished,paperback,written \n",
      "\n",
      "medicine : medicine,physicians,pathology,physician,medical,dentistry,clinical \n",
      "\n",
      "military : military,civilian,armys,commanders,infantry,army,battalions \n",
      "\n"
     ]
    }
   ],
   "source": [
    "word_similarity=  getWordSimilarity(data['ejacob'], wordlist, dataset['vocabulary'],metric='cosine')\n",
    "for w in word_similarity:\n",
    "    print w,':',','.join(word_similarity[w]),'\\n'"
   ]
  },
  {
   "cell_type": "code",
   "execution_count": 16,
   "metadata": {
    "collapsed": false
   },
   "outputs": [
    {
     "ename": "NameError",
     "evalue": "name 'vocab' is not defined",
     "output_type": "error",
     "traceback": [
      "\u001b[1;31m---------------------------------------------------------------------------\u001b[0m",
      "\u001b[1;31mNameError\u001b[0m                                 Traceback (most recent call last)",
      "\u001b[1;32m<ipython-input-16-7bfe3a273443>\u001b[0m in \u001b[0;36m<module>\u001b[1;34m()\u001b[0m\n\u001b[1;32m----> 1\u001b[1;33m \u001b[0mvocab\u001b[0m\u001b[1;33m[\u001b[0m\u001b[0mnp\u001b[0m\u001b[1;33m.\u001b[0m\u001b[0mrandom\u001b[0m\u001b[1;33m.\u001b[0m\u001b[0mrandint\u001b[0m\u001b[1;33m(\u001b[0m\u001b[0mvocab\u001b[0m\u001b[1;33m.\u001b[0m\u001b[0mshape\u001b[0m\u001b[1;33m[\u001b[0m\u001b[1;36m0\u001b[0m\u001b[1;33m]\u001b[0m\u001b[1;33m,\u001b[0m\u001b[0msize\u001b[0m\u001b[1;33m=\u001b[0m\u001b[1;33m(\u001b[0m\u001b[1;36m12\u001b[0m\u001b[1;33m,\u001b[0m\u001b[1;33m)\u001b[0m\u001b[1;33m)\u001b[0m\u001b[1;33m]\u001b[0m\u001b[1;33m\u001b[0m\u001b[0m\n\u001b[0m",
      "\u001b[1;31mNameError\u001b[0m: name 'vocab' is not defined"
     ]
    }
   ],
   "source": [
    "vocab[np.random.randint(vocab.shape[0],size=(12,))]"
   ]
  },
  {
   "cell_type": "code",
   "execution_count": 22,
   "metadata": {
    "collapsed": false
   },
   "outputs": [
    {
     "data": {
      "text/plain": [
       "True"
      ]
     },
     "execution_count": 22,
     "metadata": {},
     "output_type": "execute_result"
    }
   ],
   "source": [
    "'intelligence' in dataset['vocabulary']"
   ]
  },
  {
   "cell_type": "code",
   "execution_count": 78,
   "metadata": {
    "collapsed": false
   },
   "outputs": [
    {
     "name": "stdout",
     "output_type": "stream",
     "text": [
      "Word:  crane  Context:  bird\n",
      "crane : crane,cranes,erected,parkland,locally,farmland,causeway \n",
      "\n",
      "Word:  bank  Context:  money\n",
      "bank : bank,banks,banking,government,bankers,comptroller,fiscal \n",
      "\n",
      "Word:  bank  Context:  river\n",
      "bank : bank,watershed,footpath,confluence,drains,tributary,tributaries \n",
      "\n",
      "Word:  fire  Context:  burn\n",
      "fires : fires,ignition,combustion,engines,fuel,engine,atmosphere \n",
      "\n",
      "Word:  crane  Context:  construction\n",
      "crane : crane,cranes,lifting,usaaf,spanned,crushed,lift \n",
      "\n",
      "Word:  fire  Context:  layoff\n",
      "fires : fires,thunderstorm,grassy,surrounded,walkway,burning,subterranean \n",
      "\n"
     ]
    }
   ],
   "source": [
    "for f in glob.glob('../../expt/evalWikicorp-conditional/*h5'):\n",
    "    words= os.path.basename(f).replace('.h5','').split('-')\n",
    "    print 'Word: ',words[0], ' Context: ',words[1]\n",
    "    if words[0]=='fire':\n",
    "        words[0] = 'fires'\n",
    "    if words[0] not in dataset['vocabulary']:\n",
    "        continue\n",
    "    data2 = loadHDF5(f)\n",
    "    res  = getWordSimilarity(data2['cjacob'], [words[0]], dataset['vocabulary'] ,'cosine')\n",
    "    print words[0],':',','.join(res[words[0]]),'\\n'"
   ]
  },
  {
   "cell_type": "code",
   "execution_count": 40,
   "metadata": {
    "collapsed": false
   },
   "outputs": [
    {
     "data": {
      "text/plain": [
       "True"
      ]
     },
     "execution_count": 40,
     "metadata": {},
     "output_type": "execute_result"
    }
   ],
   "source": [
    "'fires' in dataset['vocabulary']"
   ]
  },
  {
   "cell_type": "code",
   "execution_count": 83,
   "metadata": {
    "collapsed": false
   },
   "outputs": [
    {
     "name": "stdout",
     "output_type": "stream",
     "text": [
      "(20253, 5) (5, 100)\n"
     ]
    }
   ],
   "source": [
    "from sklearn.decomposition import PCA\n",
    "pca = PCA(n_components=5)\n",
    "X_reduced = pca.fit_transform(data['ejacob_energy'])\n",
    "print X_reduced.shape,pca.components_.shape"
   ]
  },
  {
   "cell_type": "code",
   "execution_count": 84,
   "metadata": {
    "collapsed": false
   },
   "outputs": [
    {
     "name": "stdout",
     "output_type": "stream",
     "text": [
      "['ligand', 'nucleon', 'angstrom', 'enzymology', 'sterol', 'cybertron', 'photons', 'anorgasmia', 'exudation', 'decepticons']\n",
      "['murong', 'podlaskie', 'grapeshot', 'subcarpathian', 'gminas', 'renomination', 'baronetage', 'warmianmasurian', 'obec', 'kuyavianpomeranian']\n",
      "\n",
      "\n",
      "['exudation', 'cosmographer', 'rayfinned', 'woreda', 'tambon', 'warmianmasurian', 'gminas', 'monotypic', 'lubusz', 'subcarpathian']\n",
      "['allmusic', 'wrestlemania', 'gamewinning', 'autobot', 'oricon', 'cybertron', 'strikeouts', 'decepticons', 'decepticon', 'careerhigh']\n",
      "\n",
      "\n",
      "['murong', 'oricon', 'cybertron', 'anorgasmia', 'noctuidae', 'angstrom', 'dones', 'nucleon', 'fulls', 'concertos']\n",
      "['lubusz', 'shutouts', 'concacaf', 'censusdesignated', 'gminas', 'micropolitan', 'nonfamilies', 'kuyavianpomeranian', 'warmianmasurian', 'extratropical']\n",
      "\n",
      "\n",
      "['backdate', 'algebras', 'enzymology', 'superliga', 'firmware', 'undrafted', 'careerhigh', 'concacaf', 'xml', 'cpu']\n",
      "['grapeshot', 'tachinidae', 'tachinid', 'nonfamilies', 'chondrite', 'inflorescence', 'bulbophyllum', 'rayfinned', 'geometridae', 'noctuidae']\n",
      "\n",
      "\n",
      "['tambon', 'cybertron', 'decepticon', 'superliga', 'goalscorer', 'autobot', 'decepticons', 'megatron', 'careerhigh', 'dinamo']\n",
      "['whig', 'pronouns', 'haplogroup', 'geometridae', 'cultivars', 'nonfamilies', 'angstrom', 'solemnize', 'micropolitan', 'notarize']\n",
      "\n",
      "\n"
     ]
    }
   ],
   "source": [
    "for comp in X_reduced.T:#pca.components_:\n",
    "    idx = np.argsort(comp)\n",
    "    print [dataset['vocabulary'][k] for k in idx[:10].tolist()]\n",
    "    print [dataset['vocabulary'][k] for k in idx[-10:].tolist()]\n",
    "    print '\\n'"
   ]
  },
  {
   "cell_type": "code",
   "execution_count": 108,
   "metadata": {
    "collapsed": false
   },
   "outputs": [
    {
     "name": "stdout",
     "output_type": "stream",
     "text": [
      "pl-2-none\n",
      "pl-0-finopt\n",
      "pl-2-finopt\n",
      "pl-0-none\n"
     ]
    }
   ],
   "source": [
    "singular_vals = {}\n",
    "singular_vals_prob = {}\n",
    "singular_vals_pot = {}\n",
    "for f in glob.glob('../../expt/evalWikicorp-exponly/*-ejacob.h5'):\n",
    "    dd     = loadHDF5(f) \n",
    "    name =  os.path.basename(f).split('-eja')[0]\n",
    "    ejacob = dd['ejacob']\n",
    "    _,s,_  = np.linalg.svd(ejacob)\n",
    "    singular_vals[name] = s\n",
    "    ejacob = dd['ejacob_probs']\n",
    "    _,s,_  = np.linalg.svd(ejacob)\n",
    "    singular_vals_prob[name] = s\n",
    "    ejacob = dd['ejacob_energy']\n",
    "    _,s,_  = np.linalg.svd(ejacob)\n",
    "    singular_vals_pot[name] = s\n",
    "    print name"
   ]
  },
  {
   "cell_type": "code",
   "execution_count": 127,
   "metadata": {
    "collapsed": false
   },
   "outputs": [
    {
     "name": "stdout",
     "output_type": "stream",
     "text": [
      "logsingular-jacob-wikicorp.pdf saved\n"
     ]
    },
    {
     "data": {
      "image/png": "[encoded data removed]",
      "text/plain": [
       "<matplotlib.figure.Figure at 0x6cee790>"
      ]
     },
     "metadata": {},
     "output_type": "display_data"
    }
   ],
   "source": [
    "\n",
    "colorFinal = {}\n",
    "colorFinal['1-M1']    = 'r'\n",
    "colorFinal['1-M100']  = 'b'\n",
    "colorFinal['3-M1']    =  'g'\n",
    "colorFinal['3-M100']  =  'k'\n",
    "markerFinal = {}\n",
    "markerFinal['1-M1']   = 'p'\n",
    "markerFinal['1-M100'] = 'd'\n",
    "markerFinal['3-M1']   =  '<'\n",
    "markerFinal['3-M100'] =  '*'\n",
    "\n",
    "namemap= {}\n",
    "namemap['pl-0-none'] = '1-M1'\n",
    "namemap['pl-0-finopt'] = '1-M100'\n",
    "namemap['pl-2-none'] = '3-M1'\n",
    "namemap['pl-2-finopt'] = '3-M100'\n",
    "plt.plot(figsize=(16,20))\n",
    "for k in singular_vals:\n",
    "    name = namemap[k]\n",
    "    MARKER = markerFinal[name]\n",
    "    COLOR  = colorFinal[name]\n",
    "    plt.plot(np.sort(np.log(singular_vals[k]))[::-1],color=COLOR,label=name)\n",
    "plt.legend(loc='upper center', bbox_to_anchor=(0.5, 1.4),ncol=2, frameon=False)\n",
    "plt.ylabel('Log\\n Singular Values of $\\mathcal{J}^{log}_{mean}$')\n",
    "plt.xlabel('Number of singular values')\n",
    "fname = 'logsingular-jacob-wikicorp.pdf'\n",
    "print fname,'saved'\n",
    "plt.savefig(fname,bbox_inches='tight')"
   ]
  },
  {
   "cell_type": "code",
   "execution_count": 119,
   "metadata": {
    "collapsed": false
   },
   "outputs": [
    {
     "name": "stdout",
     "output_type": "stream",
     "text": [
      "pl-0-none\n",
      "pl-2-none\n",
      "pl-2-finopt\n",
      "pl-0-finopt\n"
     ]
    }
   ],
   "source": [
    "rcv2_singular_vals = {}\n",
    "rcv2_singular_vals_prob = {}\n",
    "rcv2_singular_vals_pot = {}\n",
    "for f in glob.glob('../../expt/evalRCV2/*-ejacob.h5'):\n",
    "    dd     = loadHDF5(f) \n",
    "    name =  os.path.basename(f).split('-eja')[0]\n",
    "    ejacob = dd['ejacob']\n",
    "    _,s,_  = np.linalg.svd(ejacob)\n",
    "    rcv2_singular_vals[name] = s\n",
    "    ejacob = dd['ejacob_probs']\n",
    "    _,s,_  = np.linalg.svd(ejacob)\n",
    "    rcv2_singular_vals_prob[name] = s\n",
    "    ejacob = dd['ejacob_energy']\n",
    "    _,s,_  = np.linalg.svd(ejacob)\n",
    "    rcv2_singular_vals_pot[name] = s\n",
    "    print name"
   ]
  },
  {
   "cell_type": "code",
   "execution_count": 125,
   "metadata": {
    "collapsed": false
   },
   "outputs": [
    {
     "name": "stdout",
     "output_type": "stream",
     "text": [
      "logsingular-jacob-rcv2_miao.pdf saved\n"
     ]
    },
    {
     "data": {
      "image/png": "[encoded data removed]",
      "text/plain": [
       "<matplotlib.figure.Figure at 0x7dd3ad0>"
      ]
     },
     "metadata": {},
     "output_type": "display_data"
    }
   ],
   "source": [
    "\n",
    "colorFinal = {}\n",
    "colorFinal['1-M1']    = 'r'\n",
    "colorFinal['1-M100']  = 'b'\n",
    "colorFinal['3-M1']    =  'g'\n",
    "colorFinal['3-M100']  =  'k'\n",
    "markerFinal = {}\n",
    "markerFinal['1-M1']   = 'p'\n",
    "markerFinal['1-M100'] = 'd'\n",
    "markerFinal['3-M1']   =  '<'\n",
    "markerFinal['3-M100'] =  '*'\n",
    "\n",
    "namemap= {}\n",
    "namemap['pl-0-none'] = '1-M1'\n",
    "namemap['pl-0-finopt'] = '1-M100'\n",
    "namemap['pl-2-none'] = '3-M1'\n",
    "namemap['pl-2-finopt'] = '3-M100'\n",
    "plt.plot(figsize=(8,10))\n",
    "for k in rcv2_singular_vals:\n",
    "    name = namemap[k]\n",
    "    MARKER = markerFinal[name]\n",
    "    COLOR  = colorFinal[name]\n",
    "    plt.plot(np.sort(np.log(rcv2_singular_vals[k]))[::-1],color=COLOR,label=name)\n",
    "plt.legend(loc='upper center', bbox_to_anchor=(0.5, 1.4),ncol=2, frameon=False)\n",
    "plt.ylabel('Log\\n Singular Values of $\\mathcal{J}^{log}_{mean}$')\n",
    "plt.xlabel('Number of singular values')\n",
    "fname = 'logsingular-jacob-rcv2_miao.pdf'\n",
    "print fname,'saved'\n",
    "plt.savefig(fname,bbox_inches='tight')"
   ]
  },
  {
   "cell_type": "code",
   "execution_count": null,
   "metadata": {
    "collapsed": true
   },
   "outputs": [],
   "source": []
  }
 ],
 "metadata": {
  "kernelspec": {
   "display_name": "Python 2",
   "language": "python",
   "name": "python2"
  },
  "language_info": {
   "codemirror_mode": {
    "name": "ipython",
    "version": 2
   },
   "file_extension": ".py",
   "mimetype": "text/x-python",
   "name": "python",
   "nbconvert_exporter": "python",
   "pygments_lexer": "ipython2",
   "version": "2.7.3"
  }
 },
 "nbformat": 4,
 "nbformat_minor": 0
}
