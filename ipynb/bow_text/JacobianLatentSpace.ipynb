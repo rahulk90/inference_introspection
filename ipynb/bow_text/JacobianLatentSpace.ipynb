{
 "cells": [
  {
   "cell_type": "code",
   "execution_count": null,
   "metadata": {
    "collapsed": true
   },
   "outputs": [],
   "source": [
    "#Visualize Samples from the model\n",
    "import sys,os,glob\n",
    "sys.path.append('../../')\n",
    "import numpy as np\n",
    "%matplotlib inline\n",
    "import matplotlib.pyplot as plt\n",
    "import matplotlib as mpl\n",
    "mpl.rcParams['lines.linewidth']=4\n",
    "mpl.rcParams['lines.markersize']=3\n",
    "mpl.rcParams['text.usetex']=True\n",
    "mpl.rcParams['text.latex.unicode']=True\n",
    "mpl.rcParams['font.family'] = 'serif' \n",
    "mpl.rcParams['font.serif'] = 'Times New Roman'\n",
    "mpl.rcParams['text.latex.preamble']= ['\\\\usepackage{amsfonts}','\\\\usepackage{amsmath}']\n",
    "mpl.rcParams['font.size'] = 30\n",
    "mpl.rcParams['axes.labelsize']=30\n",
    "mpl.rcParams['legend.fontsize']=30\n",
    "#http://stackoverflow.com/questions/22408237/named-colors-in-matplotlib\n",
    "from utils.misc import getConfigFile, readPickle, loadHDF5, getUniqueIDFromParams\n",
    "from optvaeutils.viz import getName"
   ]
  },
  {
   "cell_type": "code",
   "execution_count": null,
   "metadata": {},
   "outputs": [],
   "source": [
    "#DSET = 'rcv2'\n",
    "namemap_rcv2   = {}\n",
    "namemap_wiki   = {}\n",
    "namemap_rcv2['pl-0-finopt'] = '1-M100'# 'p1-$\\\\psi_{\\\\text{opt.}}$'\n",
    "namemap_rcv2['pl-0-none'] = '1-M1' #'p1'\n",
    "namemap_rcv2['pl-2-none'] =  '3-M1'#'p3'\n",
    "namemap_rcv2['pl-2-finopt'] = '3-M100'# 'p3-$\\\\psi_{\\\\text{opt.}}$'\n",
    "\n",
    "namemap_wiki['pl-0-finopt'] = '1-M100'# 'p1-$\\\\psi_{\\\\text{opt.}}$'\n",
    "namemap_wiki['pl-0-none'] = '1-M1' #'p1'\n",
    "namemap_wiki['pl-2-none'] =  '3-M1'#'p3'\n",
    "namemap_wiki['pl-2-finopt'] = '3-M100'# 'p3-$\\\\psi_{\\\\text{opt.}}$'\n",
    "\n",
    "colorFinal = {}\n",
    "colorFinal['pl-0-none']    = 'r'\n",
    "colorFinal['pl-0-finopt']  = 'b'\n",
    "colorFinal['pl-2-none']    = 'g'\n",
    "colorFinal['pl-2-finopt']  = 'k'\n",
    "markerFinal = {}\n",
    "markerFinal['pl-0-none']   =  '>'\n",
    "markerFinal['pl-0-finopt']  =  '<'\n",
    "markerFinal['pl-2-none']   =  'o'\n",
    "markerFinal['pl-2-finopt']  =  's'\n",
    "\n",
    "\n",
    "results = {}\n",
    "results['rcv2'] = {}\n",
    "results['wikicorp'] = {}\n",
    "for f in glob.glob('../../expt/evaluateJac/*.h5'):\n",
    "    dataset = f.split('-')[0].split('/')[-1]\n",
    "    setup   = f.split('pl-')[1].split('-jac')[0]\n",
    "    dd = loadHDF5(f)\n",
    "    results[dataset][setup]  = dd['svals']\n",
    "    print dataset, setup"
   ]
  },
  {
   "cell_type": "code",
   "execution_count": null,
   "metadata": {
    "collapsed": true
   },
   "outputs": [],
   "source": []
  },
  {
   "cell_type": "code",
   "execution_count": null,
   "metadata": {
    "collapsed": true
   },
   "outputs": [],
   "source": []
  },
  {
   "cell_type": "code",
   "execution_count": null,
   "metadata": {},
   "outputs": [],
   "source": [
    "fig,axlist     = plt.subplots(1,2,figsize=(10,5.5))  \n",
    "for idx, dataset in enumerate(['wikicorp','rcv2']):\n",
    "    ax         = axlist.ravel()[idx]\n",
    "    #if dataset=='wikicorp':\n",
    "    #    ax.set_title('Wikipedia')\n",
    "    #else:\n",
    "    #    ax.set_title('RCV2')\n",
    "    for setup in ['0-none','0-finopt','2-none','2-finopt']:\n",
    "        if'rcv2' in dataset:\n",
    "            name = namemap_rcv2['pl-'+setup]\n",
    "        else:\n",
    "            name = namemap_rcv2['pl-'+setup]\n",
    "        MARKER = markerFinal['pl-'+setup]\n",
    "        COLOR  = colorFinal['pl-'+setup]\n",
    "        svals  = results[dataset][setup]\n",
    "        Y = np.sort(np.log(svals))[::-1]\n",
    "        X = np.arange(0,Y.shape[0])\n",
    "        #ax.plot(X,Y,'-',marker=MARKER,alpha=0.8,color=COLOR,ms=12,lw=1,label = name)\n",
    "        ax.plot(X[::5],Y[::5],'-',marker=MARKER,alpha=0.8,color=COLOR,ms=12,lw=1,label = name)\n",
    "        if 'wikicorp' in dataset:\n",
    "            ax.set_ylim([-3,6])\n",
    "        else:\n",
    "            ax.set_ylim([-3,6])\n",
    "        ax.set_xticks(X[::25].tolist()+[100])\n",
    "fname = 'javex_svd.pdf'\n",
    "#plt.legend(loc='upper center', bbox_to_anchor=(-0.3, 1.1),ncol=2,frameon=True,columnspacing=0.1, markerscale=2)\n",
    "#plt.legend(loc='upper center', bbox_to_anchor=(0.6, 1.),ncol=2,frameon=False,columnspacing=0.1, markerscale=2)\n",
    "\n",
    "axlist[0].set_ylabel('Log singular values\\n of $\\\\nabla_z\\\\log p(x|z)$')\n",
    "#fig.text(0.5, 0.01, 'Dimensions of $z$', ha='center')\n",
    "fig.text(0.35, 0.2, 'Wikipedia', ha='center')\n",
    "fig.text(0.8, 0.2, 'RCV1', ha='center')\n",
    "plt.tight_layout()\n",
    "plt.savefig(fname, bbox_inches='tight')"
   ]
  },
  {
   "cell_type": "code",
   "execution_count": null,
   "metadata": {
    "collapsed": true
   },
   "outputs": [],
   "source": []
  }
 ],
 "metadata": {
  "kernelspec": {
   "display_name": "Python 2",
   "language": "python",
   "name": "python2"
  },
  "language_info": {
   "codemirror_mode": {
    "name": "ipython",
    "version": 2
   },
   "file_extension": ".py",
   "mimetype": "text/x-python",
   "name": "python",
   "nbconvert_exporter": "python",
   "pygments_lexer": "ipython2",
   "version": "2.7.12"
  }
 },
 "nbformat": 4,
 "nbformat_minor": 1
}
