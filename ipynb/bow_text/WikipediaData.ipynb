{
 "cells": [
  {
   "cell_type": "code",
   "execution_count": 1,
   "metadata": {
    "collapsed": false
   },
   "outputs": [],
   "source": [
    "import sys,os\n",
    "sys.path.append('../../')\n",
    "from optvaedatasets.load import loadDataset\n",
    "import numpy as np\n",
    "from scipy.sparse import csr_matrix"
   ]
  },
  {
   "cell_type": "code",
   "execution_count": 2,
   "metadata": {
    "collapsed": false
   },
   "outputs": [
    {
     "name": "stdout",
     "output_type": "stream",
     "text": [
      "/data/ml2/rahul/opt-vae/optvaedatasets/wikipedia/counts-wikipedia.h5  found\n",
      "Using: /data/ml2/rahul/opt-vae/optvaedatasets/wikipedia/counts-wikipedia.h5\n"
     ]
    }
   ],
   "source": [
    "dset = loadDataset('wikipedia-full')"
   ]
  },
  {
   "cell_type": "code",
   "execution_count": 3,
   "metadata": {
    "collapsed": false
   },
   "outputs": [],
   "source": [
    "vocab = [w.strip() for w in open('../../optvaedatasets/wikipedia/vocab.dat').readlines()]"
   ]
  },
  {
   "cell_type": "code",
   "execution_count": 4,
   "metadata": {
    "collapsed": true
   },
   "outputs": [],
   "source": [
    "avg_counts = dset['train'].mean(0)"
   ]
  },
  {
   "cell_type": "code",
   "execution_count": 5,
   "metadata": {
    "collapsed": false
   },
   "outputs": [
    {
     "name": "stdout",
     "output_type": "stream",
     "text": [
      "Least Common Words:  ['writings', 'four', 'yellow', 'woods', 'hanging', 'looking', 'marching', 'lord', 'rouse', 'meadows', 'sagde', 'sinking', 'foul', 'bringing', 'disturb', 'uttering', 'wooden', 'scholar', 'wednesday', 'haben', 'persisted', 'succession', 'specially', 'nigh', 'tired', 'bacon', 'miller', 'pulse', 'elegant', 'second', 'valiant', 'sailed', 'errors', 'thunder', 'cooking', 'increasing', 'fingers', 'contributed', 'etexts', 'dort', 'hero', 'leaning', 'reported', 'herd', 'china', 'herr', 'substance', 'elaborate', 'climbed', 'reports', 'controversy', 'ueber', 'natures', 'military', 'criticism', 'golden', 'divide', 'explained', 'replace', 'brought', 'leurs', 'spoke', 'stern', 'music', 'telegraph', 'mystic', 'strike', 'paperwork', 'holy', 'successful', 'brings', 'hurt', 'glass', 'aux', 'midst', 'hold', 'locked', 'circumstances', 'pursue', 'blade', 'plunged', 'mots', 'revenues', 'leaped', 'avaient', 'misfortunes', 'owes', 'unjust', 'household', 'caution', 'artillery', 'organized', 'kingdoms', 'absolute', 'provincial', 'hoe', 'groaned', 'hon', 'travel', 'damage']\n",
      "Most Common Words:  ['pull', 'rush', 'october', 'rage', 'rags', 'dirty', 'agree', 'darker', 'detailed', 'gone', 'keine', 'fright', 'exhausted', 'stealing', 'carved', 'walks', 'watched', 'tranquil', 'amused', 'tremble', 'cream', 'socrates', 'tight', 'indemnify', 'congress', 'terre', 'decree', 'etwas', 'gifts', 'homely', 'accounts', 'tricks', 'mask', 'mass', 'original', 'adam', 'consider', 'caused', 'instincts', 'weariness', 'reasoning', 'welfare', 'causes', 'attentive', 'disciples', 'hunting', 'tait', 'prophets', 'tail', 'dressing', 'smile', 'paying', 'appointment', 'returned', 'puzzled', 'floated', 'condition', 'sans', 'cable', 'accompanying', 'marvellous', 'laying', 'joined', 'sang', 'large', 'sand', 'small', 'harry', 'sank', 'quun', 'maggie', 'past', 'carriages', 'honourable', 'pass', 'destitute', 'situated', 'richard', 'clock', 'section', 'prevailed', 'nurse', 'method', 'contrast', 'full', 'escaping', 'leaping', 'hours', 'hast', 'november', 'legend', 'compliance', 'experience', 'prior', 'periodic', 'durch', 'social', 'action', 'sweetness', 'depart']\n",
      "Sorted Avg. Counts\n",
      "[ 0.02950175  0.0295237   0.02955279  0.02966438  0.02970246  0.0297096\n",
      "  0.02971198  0.02975534  0.02976434  0.0297728   0.02977306  0.02979633\n",
      "  0.02987513  0.02996293  0.02999281  0.0299936   0.03005548  0.03007531\n",
      "  0.03016046  0.03016733] [ 0.36591029  0.37910113  0.42891523  0.43141944  0.44904407  0.45956093\n",
      "  0.46028205  0.46722877  0.46893385  0.47778424  0.49941322  0.59968823\n",
      "  0.60183095  0.61540575  0.63679753  0.65547434  0.84799188  0.88791503\n",
      "  0.89992913  1.12858575]\n"
     ]
    }
   ],
   "source": [
    "idx = np.argsort(np.squeeze(np.asarray(avg_counts)))\n",
    "print 'Least Common Words: ',[vocab[i] for i in idx[:100]]\n",
    "print 'Most Common Words: ',[vocab[i] for i in idx[-100:]]\n",
    "\n",
    "print 'Sorted Avg. Counts'\n",
    "sorted_counts =  np.sort(np.squeeze(np.asarray(avg_counts)))\n",
    "print sorted_counts[:20],sorted_counts[-20:]"
   ]
  },
  {
   "cell_type": "code",
   "execution_count": 6,
   "metadata": {
    "collapsed": true
   },
   "outputs": [],
   "source": [
    "%matplotlib inline\n",
    "import matplotlib.pylab as plt"
   ]
  },
  {
   "cell_type": "code",
   "execution_count": 7,
   "metadata": {
    "collapsed": false
   },
   "outputs": [
    {
     "data": {
      "text/plain": [
       "<Container object of 1000 artists>"
      ]
     },
     "execution_count": 7,
     "metadata": {},
     "output_type": "execute_result"
    },
    {
     "data": {
      "image/png": "[encoded data removed]",
      "text/plain": [
       "<matplotlib.figure.Figure at 0x33e1090>"
      ]
     },
     "metadata": {},
     "output_type": "display_data"
    }
   ],
   "source": [
    "plt.bar(range(len(sorted_counts)),sorted_counts[::-1])"
   ]
  },
  {
   "cell_type": "code",
   "execution_count": 8,
   "metadata": {
    "collapsed": false
   },
   "outputs": [
    {
     "name": "stdout",
     "output_type": "stream",
     "text": [
      "Found:  /data/ml2/rahul/theanomodels/datasets/mnist/proc-bmnist.h5\n"
     ]
    },
    {
     "data": {
      "text/plain": [
       "<Container object of 784 artists>"
      ]
     },
     "execution_count": 8,
     "metadata": {},
     "output_type": "execute_result"
    },
    {
     "data": {
      "image/png": "[encoded data removed]",
      "text/plain": [
       "<matplotlib.figure.Figure at 0x35a4550>"
      ]
     },
     "metadata": {},
     "output_type": "display_data"
    }
   ],
   "source": [
    "from datasets.load import loadDataset as ldset\n",
    "dset_mnist = ldset('binarized_mnist')\n",
    "sorted_counts_img = np.sort(dset_mnist['train'].mean(0))\n",
    "plt.bar(range(len(sorted_counts_img)),sorted_counts_img[::-1])"
   ]
  }
 ],
 "metadata": {
  "kernelspec": {
   "display_name": "Python 2",
   "language": "python",
   "name": "python2"
  },
  "language_info": {
   "codemirror_mode": {
    "name": "ipython",
    "version": 2
   },
   "file_extension": ".py",
   "mimetype": "text/x-python",
   "name": "python",
   "nbconvert_exporter": "python",
   "pygments_lexer": "ipython2",
   "version": "2.7.3"
  }
 },
 "nbformat": 4,
 "nbformat_minor": 0
}
