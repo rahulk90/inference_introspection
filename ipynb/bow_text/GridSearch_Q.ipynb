{
 "cells": [
  {
   "cell_type": "code",
   "execution_count": 1,
   "metadata": {
    "collapsed": false
   },
   "outputs": [
    {
     "name": "stdout",
     "output_type": "stream",
     "text": [
      "pl-2-qh-400-ql-1-M1 322.939369573 340.450761207 1 1 400\n",
      "pl-2-qh-100-ql-3-M1 389.999676534 407.146151996 1 3 100\n",
      "pl-2-qh-400-ql-3-M1 338.094207428 355.63503745 1 3 400\n",
      "pl-2-qh-400-ql-2-M1 331.361691386 347.95072129 1 2 400\n",
      "pl-2-qh-100-ql-3-M100 318.038651742 335.918945577 100 3 100\n",
      "pl-2-qh-100-ql-1-M100 317.843581922 333.644424998 100 1 100\n",
      "pl-2-qh-400-ql-1-M100 314.749124825 332.349948843 100 1 400\n",
      "pl-2-qh-400-ql-2-M100 314.03593152 332.401095398 100 2 400\n",
      "pl-2-qh-100-ql-2-M1 357.275372849 371.36895984 1 2 100\n",
      "pl-2-qh-100-ql-1-M1 337.011262318 351.256001849 1 1 100\n",
      "pl-2-qh-100-ql-2-M100 318.033793129 334.544244249 100 2 100\n",
      "pl-2-qh-400-ql-3-M100 313.954829765 332.042942901 100 3 400\n"
     ]
    }
   ],
   "source": [
    "import glob\n",
    "\n",
    "results = {}\n",
    "for qh in ['100','400']:\n",
    "    results[qh] = {}\n",
    "    for ql in ['1','2','3']:\n",
    "        results[qh][ql] = {}\n",
    "        for M in ['1','100']:\n",
    "            results[qh][ql][M] = {}\n",
    "\n",
    "for fname in glob.glob('../../expt/*.outf'):\n",
    "    with open(fname) as f:\n",
    "        datalist = [k.strip() for k in f.readlines()]\n",
    "    for data in datalist:\n",
    "        name =  data.split('train:')[0].strip()\n",
    "        info_tmp = data.split('train:')[1]\n",
    "        train, valid = info_tmp.split('; valid:')[0],info_tmp.split('; valid:')[1]\n",
    "        train, valid = float(train.split(',')[1]),float(valid.split(',')[1].strip())\n",
    "        namelist = name.split('-')\n",
    "        Mval = namelist[-1][1:]\n",
    "        qlval= namelist[-2]\n",
    "        qhval= namelist[-4]\n",
    "        results[qhval][qlval][Mval]['train'] = train\n",
    "        results[qhval][qlval][Mval]['valid'] = valid\n",
    "        print name,train,valid,Mval, qlval, qhval"
   ]
  },
  {
   "cell_type": "code",
   "execution_count": 2,
   "metadata": {
    "collapsed": false
   },
   "outputs": [
    {
     "name": "stdout",
     "output_type": "stream",
     "text": [
      "{'100': {'1': {'1': {'train': 337.011262318, 'valid': 351.256001849}, '100': {'train': 317.843581922, 'valid': 333.644424998}}, '3': {'1': {'train': 389.999676534, 'valid': 407.146151996}, '100': {'train': 318.038651742, 'valid': 335.918945577}}, '2': {'1': {'train': 357.275372849, 'valid': 371.36895984}, '100': {'train': 318.033793129, 'valid': 334.544244249}}}, '400': {'1': {'1': {'train': 322.939369573, 'valid': 340.450761207}, '100': {'train': 314.749124825, 'valid': 332.349948843}}, '3': {'1': {'train': 338.094207428, 'valid': 355.63503745}, '100': {'train': 313.954829765, 'valid': 332.042942901}}, '2': {'1': {'train': 331.361691386, 'valid': 347.95072129}, '100': {'train': 314.03593152, 'valid': 332.401095398}}}}\n"
     ]
    }
   ],
   "source": [
    "print results"
   ]
  },
  {
   "cell_type": "code",
   "execution_count": 17,
   "metadata": {
    "collapsed": false
   },
   "outputs": [
    {
     "name": "stdout",
     "output_type": "stream",
     "text": [
      "Hidden Dimension & 1 layers&2 layers&3 layers \\\\\n",
      "& 100 & 337.01& 351.26 &357.28& 371.37 &390.00& 407.15  \\\\\n",
      "& 400 & 322.94& 340.45 &331.36& 347.95 &338.09& 355.64  \\\\\n"
     ]
    }
   ],
   "source": [
    "print 'Hidden Dimension &','&'.join([k+' layers' for k in ['1','2','3']]),'\\\\\\\\'\n",
    "for qh in ['100','400']:\n",
    "    rowdata=''\n",
    "    for ql in ['1','2','3']:\n",
    "        rowdata+=('%.2f& %.2f &'%(results[qh][ql]['1']['train'],results[qh][ql]['1']['valid']))\n",
    "    print '&',qh,'&',rowdata[:-1],'\\\\\\\\'"
   ]
  },
  {
   "cell_type": "code",
   "execution_count": 16,
   "metadata": {
    "collapsed": false
   },
   "outputs": [
    {
     "name": "stdout",
     "output_type": "stream",
     "text": [
      "Hidden Dimension & 1 layers&2 layers&3 layers \\\\\n",
      "& 100 & 317.84& 333.64 &318.03& 334.54 &318.04& 335.92  \\\\\n",
      "& 400 & 314.75& 332.35 &314.04& 332.40 &313.95& 332.04  \\\\\n"
     ]
    }
   ],
   "source": [
    "print 'Hidden Dimension &','&'.join([k+' layers' for k in ['1','2','3']]),'\\\\\\\\'\n",
    "for qh in ['100','400']:\n",
    "    rowdata=''\n",
    "    for ql in ['1','2','3']:\n",
    "        rowdata+=('%.2f& %.2f &'%(results[qh][ql]['100']['train'],results[qh][ql]['100']['valid']))\n",
    "    print '&',qh,'&',rowdata[:-1],'\\\\\\\\'"
   ]
  },
  {
   "cell_type": "code",
   "execution_count": null,
   "metadata": {
    "collapsed": true
   },
   "outputs": [],
   "source": []
  }
 ],
 "metadata": {
  "kernelspec": {
   "display_name": "Python 2",
   "language": "python",
   "name": "python2"
  }
 },
 "nbformat": 4,
 "nbformat_minor": 0
}
