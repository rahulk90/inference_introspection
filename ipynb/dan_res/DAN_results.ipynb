{
 "cells": [
  {
   "cell_type": "code",
   "execution_count": 1,
   "metadata": {
    "collapsed": true
   },
   "outputs": [],
   "source": [
    "#Visualize the word embeddings we need\n",
    "#Debugging finopt\n",
    "#Visualize Samples from the model\n",
    "import sys,os,glob\n",
    "sys.path.append('../../')\n",
    "import numpy as np\n",
    "%matplotlib inline\n",
    "import operator\n",
    "from sklearn.metrics.pairwise import pairwise_distances\n",
    "from sklearn import cluster\n",
    "from collections import OrderedDict\n",
    "import matplotlib.pyplot as plt\n",
    "import matplotlib as mpl\n",
    "mpl.rcParams['lines.linewidth']=2.5\n",
    "mpl.rcParams['lines.markersize']=8\n",
    "#mpl.rcParams['text.usetex']=True\n",
    "mpl.rcParams['text.latex.unicode']=True\n",
    "mpl.rcParams['font.family'] = 'serif'\n",
    "mpl.rcParams['font.serif'] = 'Times New Roman'\n",
    "mpl.rcParams['text.latex.preamble']= ['\\\\usepackage{amsfonts}','\\\\usepackage{amsmath}']\n",
    "mpl.rcParams['font.size'] = 20\n",
    "mpl.rcParams['axes.labelsize']=20\n",
    "mpl.rcParams['legend.fontsize']=20\n",
    "from utils.misc import loadHDF5\n",
    "from matplotlib import markers\n",
    "from matplotlib import colors\n",
    "clist = colors.cnames.keys()\n",
    "mlist = markers.MarkerStyle().markers.keys()"
   ]
  },
  {
   "cell_type": "code",
   "execution_count": 2,
   "metadata": {
    "collapsed": false
   },
   "outputs": [],
   "source": [
    "sys.path.append('../../expt_dan/')"
   ]
  },
  {
   "cell_type": "code",
   "execution_count": 3,
   "metadata": {
    "collapsed": false
   },
   "outputs": [],
   "source": [
    "dataset = ['imdb','rotten_tomatoes','sst_binary','sst_fine']\n",
    "results = {}\n",
    "for dset in dataset:\n",
    "    results[dset] = {}\n",
    "    for dirn in glob.glob('../../expt_dan/chkpt-'+dset+'*'):\n",
    "        for f in glob.glob(dirn+'/*final*.h5'):\n",
    "            pname = f.split('fixed-')[1].split('-')[0]\n",
    "            mm    = loadHDF5(f)\n",
    "            results[dset][pname] = '%.2f'%(mm['test_acc']*100)"
   ]
  },
  {
   "cell_type": "code",
   "execution_count": 4,
   "metadata": {
    "collapsed": false
   },
   "outputs": [
    {
     "name": "stdout",
     "output_type": "stream",
     "text": [
      "****  imdb  ****\n",
      "DAN layers: 0\n",
      "2_finopt 67.64\n",
      "2_none 62.53\n",
      "0_finopt 69.31\n",
      "0_none 70.53\n",
      "0_glove 76.41\n",
      "\n",
      "\n",
      "DAN layers: 2\n",
      "2_finopt 72.29\n",
      "2_none 67.90\n",
      "0_finopt 72.43\n",
      "0_none 71.75\n",
      "0_glove 79.71\n",
      "\n",
      "\n",
      "****  rotten_tomatoes  ****\n",
      "DAN layers: 0\n",
      "2_finopt 64.00\n",
      "2_none 57.90\n",
      "0_finopt 65.56\n",
      "0_none 65.70\n",
      "0_glove 68.73\n",
      "\n",
      "\n",
      "DAN layers: 2\n",
      "2_finopt 64.14\n",
      "2_none 62.91\n",
      "0_finopt 65.23\n",
      "0_none 64.14\n",
      "0_glove 66.56\n",
      "\n",
      "\n",
      "****  sst_binary  ****\n",
      "DAN layers: 0\n",
      "2_finopt 60.02\n",
      "2_none 56.49\n",
      "0_finopt 62.29\n",
      "0_none 64.05\n",
      "0_glove 71.95\n",
      "\n",
      "\n",
      "DAN layers: 2\n",
      "2_finopt 65.43\n",
      "2_none 59.41\n",
      "0_finopt 67.20\n",
      "0_none 69.24\n",
      "0_glove 69.30\n",
      "\n",
      "\n",
      "****  sst_fine  ****\n",
      "DAN layers: 0\n",
      "2_finopt 29.40\n",
      "2_none 28.72\n",
      "0_finopt 29.18\n",
      "0_none 30.95\n",
      "0_glove 34.18\n",
      "\n",
      "\n",
      "DAN layers: 2\n",
      "2_finopt 30.31\n",
      "2_none 26.95\n",
      "0_finopt 29.18\n",
      "0_none 30.36\n",
      "0_glove 33.09\n",
      "\n",
      "\n"
     ]
    }
   ],
   "source": [
    "for dset in dataset:\n",
    "    print '**** ',dset,' ****'\n",
    "    for numlayers in ['0','2']:\n",
    "        print 'DAN layers:',numlayers\n",
    "        for jtype in ['2_finopt','2_none','0_finopt','0_none','0_glove']:\n",
    "            if numlayers+'_l_'+jtype in results[dset]:\n",
    "                print jtype, results[dset][numlayers+'_l_'+jtype]\n",
    "        print '\\n'"
   ]
  },
  {
   "cell_type": "code",
   "execution_count": null,
   "metadata": {
    "collapsed": true
   },
   "outputs": [],
   "source": []
  }
 ],
 "metadata": {
  "kernelspec": {
   "display_name": "Python 2",
   "language": "python",
   "name": "python2"
  },
  "language_info": {
   "codemirror_mode": {
    "name": "ipython",
    "version": 2
   },
   "file_extension": ".py",
   "mimetype": "text/x-python",
   "name": "python",
   "nbconvert_exporter": "python",
   "pygments_lexer": "ipython2",
   "version": "2.7.12"
  }
 },
 "nbformat": 4,
 "nbformat_minor": 0
}
